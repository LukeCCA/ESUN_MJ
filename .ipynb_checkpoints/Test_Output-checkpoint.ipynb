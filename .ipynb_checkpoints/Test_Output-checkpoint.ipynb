{
 "cells": [
  {
   "cell_type": "code",
   "execution_count": 13,
   "metadata": {},
   "outputs": [],
   "source": [
    "import pandas as pd\n",
    "import numpy as np\n",
    "import inspect\n",
    "import os"
   ]
  },
  {
   "cell_type": "code",
   "execution_count": 17,
   "metadata": {
    "collapsed": true
   },
   "outputs": [],
   "source": [
    "file_path = inspect.getfile(inspect.currentframe())\n",
    "file_direction = os.path.dirname(os.path.abspath(file_path))\n",
    "offertagging = os.path.join(file_direction, './Demo3/RecommandSystem/MJ_OFFER.xlsx')\n",
    "usertagging = os.path.join(file_direction, './Demo3/RecommandSystem/MJ_TAG.xlsx')"
   ]
  },
  {
   "cell_type": "code",
   "execution_count": 18,
   "metadata": {},
   "outputs": [],
   "source": [
    "usertagging = pd.read_excel(usertagging)\n",
    "offertagging = pd.read_excel(offertagging)"
   ]
  },
  {
   "cell_type": "code",
   "execution_count": 24,
   "metadata": {},
   "outputs": [],
   "source": [
    "offertagging = offertagging.loc[:9]\n",
    "usertagging = usertagging.loc[:9]"
   ]
  },
  {
   "cell_type": "code",
   "execution_count": null,
   "metadata": {
    "collapsed": true
   },
   "outputs": [],
   "source": [
    "offertagging.to_csv('offer_testdata.csv', sep = '\\t')\n",
    "usertagging.to_csv('user_testdata.csv', sep = '\\t')"
   ]
  },
  {
   "cell_type": "code",
   "execution_count": 4,
   "metadata": {
    "collapsed": true
   },
   "outputs": [],
   "source": [
    "model = CF.COLLOBORATIVE_FILTERING()"
   ]
  },
  {
   "cell_type": "code",
   "execution_count": 5,
   "metadata": {
    "collapsed": true
   },
   "outputs": [],
   "source": [
    "import redis\n",
    "import json"
   ]
  },
  {
   "cell_type": "code",
   "execution_count": 6,
   "metadata": {
    "collapsed": true
   },
   "outputs": [],
   "source": [
    "redis_conn = redis.Redis(host='localhost',port=6379,db=0)"
   ]
  },
  {
   "cell_type": "code",
   "execution_count": null,
   "metadata": {
    "collapsed": true
   },
   "outputs": [],
   "source": [
    "import pickle\n",
    "with open('tag_mapping.pickle', 'rb') as f3:\n",
    "    tag_mapping = pickle.load(f3)"
   ]
  },
  {
   "cell_type": "code",
   "execution_count": 7,
   "metadata": {
    "collapsed": true
   },
   "outputs": [],
   "source": [
    "test = model.predict(json.loads(redis_conn.get(1)))"
   ]
  },
  {
   "cell_type": "code",
   "execution_count": 11,
   "metadata": {},
   "outputs": [
    {
     "data": {
      "text/plain": [
       "[u'TG0014',\n",
       " u'TG0015',\n",
       " u'TG0016',\n",
       " u'TG0017',\n",
       " u'TG0018',\n",
       " u'TG0019',\n",
       " u'TG0020',\n",
       " u'TG0021',\n",
       " u'TG0022',\n",
       " u'TG0023',\n",
       " u'TG0026',\n",
       " u'TG0027',\n",
       " u'TG0028',\n",
       " u'TG0029',\n",
       " u'TG0030',\n",
       " u'TG0031',\n",
       " u'TG0032',\n",
       " u'TG0033',\n",
       " u'TG0035',\n",
       " u'TG0036',\n",
       " u'TG0038',\n",
       " u'TG0041',\n",
       " u'TG0042',\n",
       " u'TG0043',\n",
       " u'TG0044',\n",
       " u'TG0045',\n",
       " u'TG0046',\n",
       " u'TG0047',\n",
       " u'TG0048',\n",
       " u'TG0086',\n",
       " u'TG0087',\n",
       " u'TG0088',\n",
       " u'TG0089',\n",
       " u'TG0090',\n",
       " u'TG0091',\n",
       " u'TG0092',\n",
       " u'TG0093',\n",
       " u'TG0094',\n",
       " u'TG0095',\n",
       " u'TG0096',\n",
       " u'TG0109',\n",
       " u'TG0110',\n",
       " u'TG0111',\n",
       " u'TG0112',\n",
       " u'TG0113',\n",
       " u'TG0118',\n",
       " u'TG0119',\n",
       " u'TG0120',\n",
       " u'TG0121',\n",
       " u'TG0122',\n",
       " u'TG0123',\n",
       " u'TG0124',\n",
       " u'TG0125',\n",
       " u'TG0126',\n",
       " u'TG0127',\n",
       " u'TG0128',\n",
       " u'TG0129',\n",
       " u'TG0130',\n",
       " u'TG0131',\n",
       " u'TG0132',\n",
       " u'TG0133',\n",
       " u'TG0134',\n",
       " u'TG0135',\n",
       " u'TG0136',\n",
       " u'TG0137',\n",
       " u'TG0138',\n",
       " u'TG0139',\n",
       " u'TG0140',\n",
       " u'TG0202',\n",
       " u'TG0203',\n",
       " u'TG0204',\n",
       " u'TG0205',\n",
       " u'TG0206',\n",
       " u'TG0207',\n",
       " u'TG0208',\n",
       " u'TG0209',\n",
       " u'TG0210',\n",
       " u'TG0246',\n",
       " u'TG0247',\n",
       " u'TG0248',\n",
       " u'TG0249',\n",
       " u'TG0250',\n",
       " u'TG0251',\n",
       " u'TG0252',\n",
       " u'TG0254',\n",
       " u'TG0255',\n",
       " u'TG0256',\n",
       " u'TG0257',\n",
       " u'TG0258',\n",
       " u'TG0259',\n",
       " u'TG0260',\n",
       " u'TG0261',\n",
       " u'TG0262',\n",
       " u'TG0268',\n",
       " u'TG0269',\n",
       " u'TG0270',\n",
       " u'TG0271',\n",
       " u'TG0272',\n",
       " u'TG0273',\n",
       " u'TG0274',\n",
       " u'TG0275',\n",
       " u'TG0276',\n",
       " u'TG0277',\n",
       " u'TG0278',\n",
       " u'TG0279',\n",
       " u'TG0282',\n",
       " u'TG0283',\n",
       " u'TG0284',\n",
       " u'TG0288',\n",
       " u'TG0289',\n",
       " u'TG0292',\n",
       " u'TG0293',\n",
       " u'TG0298',\n",
       " u'TG0311',\n",
       " u'TG0312',\n",
       " u'TG0314',\n",
       " u'TG0316',\n",
       " u'TG0317',\n",
       " u'TG0321',\n",
       " u'TG0326',\n",
       " u'TG0327',\n",
       " u'TG0329',\n",
       " u'TG0330',\n",
       " u'TG0342',\n",
       " u'TG0343',\n",
       " u'TG0344',\n",
       " u'TG0345',\n",
       " u'TG0346',\n",
       " u'TG0350',\n",
       " u'TG0351',\n",
       " u'TG0354',\n",
       " u'TG0355',\n",
       " u'TG0356',\n",
       " u'TG0357',\n",
       " u'TG0363',\n",
       " u'TG0364',\n",
       " u'TG0365',\n",
       " u'TG0366',\n",
       " u'TG0372',\n",
       " u'TG0374',\n",
       " u'TG0375',\n",
       " u'TG0376',\n",
       " u'TG0378',\n",
       " u'TG0379',\n",
       " u'TG0380',\n",
       " u'TG0385',\n",
       " u'TG0387',\n",
       " u'TG0388',\n",
       " u'TG0389',\n",
       " u'TG0390',\n",
       " u'TG0397',\n",
       " u'TG0398',\n",
       " u'TG0400',\n",
       " u'TG0401',\n",
       " u'TG0402',\n",
       " u'TG0403',\n",
       " u'TG0404',\n",
       " u'TG0405',\n",
       " u'TG0406',\n",
       " u'TG0407',\n",
       " u'TG0411',\n",
       " u'TG0412',\n",
       " u'TG0415',\n",
       " u'TG0416']"
      ]
     },
     "execution_count": 11,
     "metadata": {},
     "output_type": "execute_result"
    }
   ],
   "source": [
    "sorted(usertagging.UTID.unique())"
   ]
  },
  {
   "cell_type": "code",
   "execution_count": null,
   "metadata": {
    "collapsed": true
   },
   "outputs": [],
   "source": [
    "sort_data = sorted(range(len(test)), key=lambda x: test[x])"
   ]
  },
  {
   "cell_type": "code",
   "execution_count": null,
   "metadata": {
    "collapsed": true
   },
   "outputs": [],
   "source": [
    "key = sorted(test)\n",
    "sort_data = sorted(range(len(test)), key=lambda x: test[x])\n"
   ]
  },
  {
   "cell_type": "code",
   "execution_count": null,
   "metadata": {
    "collapsed": true
   },
   "outputs": [],
   "source": [
    "import pickle\n",
    "with open('reverse_offertag.pickle', 'rb') as f4:\n",
    "    reverse_offertag = pickle.load(f4)  "
   ]
  },
  {
   "cell_type": "code",
   "execution_count": null,
   "metadata": {
    "collapsed": true
   },
   "outputs": [],
   "source": [
    "offer = []\n",
    "for i in test:\n",
    "    offer.append(reverse_offertag[i])"
   ]
  },
  {
   "cell_type": "code",
   "execution_count": null,
   "metadata": {
    "collapsed": true
   },
   "outputs": [],
   "source": [
    "len(reverse_offertag)"
   ]
  },
  {
   "cell_type": "code",
   "execution_count": null,
   "metadata": {
    "collapsed": true
   },
   "outputs": [],
   "source": [
    "offer_table = np.zeros(len(reverse_offertag))\n",
    "for i in offer:\n",
    "    offer_table[i] = 1"
   ]
  },
  {
   "cell_type": "code",
   "execution_count": null,
   "metadata": {
    "collapsed": true
   },
   "outputs": [],
   "source": [
    "offer_table.shape"
   ]
  },
  {
   "cell_type": "code",
   "execution_count": null,
   "metadata": {
    "collapsed": true
   },
   "outputs": [],
   "source": [
    "data = pd.read_csv('../OFFERTAG_MAPPING.csv')"
   ]
  },
  {
   "cell_type": "code",
   "execution_count": null,
   "metadata": {
    "collapsed": true
   },
   "outputs": [],
   "source": [
    "data_table = data.pivot_table(index='OFFER_ID', columns='LABEL_ID', values='IND').fillna(0)"
   ]
  },
  {
   "cell_type": "code",
   "execution_count": null,
   "metadata": {
    "collapsed": true
   },
   "outputs": [],
   "source": [
    "data_table.index.values"
   ]
  },
  {
   "cell_type": "code",
   "execution_count": null,
   "metadata": {
    "collapsed": true
   },
   "outputs": [],
   "source": [
    "data_table.values.shape"
   ]
  },
  {
   "cell_type": "code",
   "execution_count": null,
   "metadata": {
    "collapsed": true
   },
   "outputs": [],
   "source": [
    "from sklearn.metrics import pairwise\n",
    "offer_similarity = pairwise.cosine_similarity(offer_table.reshape(1,-1), data_table)"
   ]
  },
  {
   "cell_type": "code",
   "execution_count": null,
   "metadata": {
    "collapsed": true
   },
   "outputs": [],
   "source": [
    "offer_similarity"
   ]
  },
  {
   "cell_type": "code",
   "execution_count": null,
   "metadata": {
    "collapsed": true
   },
   "outputs": [],
   "source": []
  }
 ],
 "metadata": {
  "kernelspec": {
   "display_name": "Python 2",
   "language": "python",
   "name": "python2"
  },
  "language_info": {
   "codemirror_mode": {
    "name": "ipython",
    "version": 2
   },
   "file_extension": ".py",
   "mimetype": "text/x-python",
   "name": "python",
   "nbconvert_exporter": "python",
   "pygments_lexer": "ipython2",
   "version": "2.7.13"
  }
 },
 "nbformat": 4,
 "nbformat_minor": 2
}
