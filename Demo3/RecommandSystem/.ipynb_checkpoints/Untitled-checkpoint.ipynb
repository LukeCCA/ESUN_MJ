{
 "cells": [
  {
   "cell_type": "code",
   "execution_count": 29,
   "metadata": {
    "collapsed": true
   },
   "outputs": [],
   "source": [
    "import unittest\n",
    "import pandas as pd\n",
    "import function_testing\n",
    "import os\n",
    "import inspect\n",
    "import operator\n",
    "import redis\n",
    "import json\n",
    "import pickle\n",
    "import numpy as np\n",
    "from scipy import sparse\n",
    "from sklearn.metrics import pairwise "
   ]
  },
  {
   "cell_type": "code",
   "execution_count": 2,
   "metadata": {
    "collapsed": true
   },
   "outputs": [],
   "source": [
    "file_path = inspect.getfile(inspect.currentframe())\n",
    "file_direction = os.path.dirname(os.path.abspath(file_path))\n",
    "offertagging = os.path.join(file_direction, 'offer_testdata.csv')\n",
    "usertagging = os.path.join(file_direction, 'user_testdata.csv')\n",
    "offertagging = pd.read_csv(offertagging,sep='\\t')\n",
    "usertagging = pd.read_csv(usertagging,sep='\\t')"
   ]
  },
  {
   "cell_type": "code",
   "execution_count": 3,
   "metadata": {},
   "outputs": [],
   "source": [
    "function_test = function_testing.threshold_likes(offertagging, id_min=10, offer_min=5).values"
   ]
  },
  {
   "cell_type": "code",
   "execution_count": 21,
   "metadata": {
    "collapsed": true
   },
   "outputs": [],
   "source": [
    "def predict(data, online=False, \n",
    "    number=15, offer_number=6, rating_table=None, tag=None, offerlabel_mapping=None, \n",
    "    tag_mapping=None, reverse_offertag=None, offer_maptb=None, offer_sparse=None ):\n",
    "        # load Model and Mapping Table\n",
    "        if not online:\n",
    "            with open('offerrating_table.pickle', 'rb') as f:\n",
    "                rating_table = pickle.load(f)\n",
    "            with open('user_sparse.pickle', 'rb') as f1:\n",
    "                tag = pickle.load(f1)\n",
    "            with open('offerlabel_mapping.pickle', 'rb') as f2:\n",
    "                offerlabel_mapping = pickle.load(f2)\n",
    "            with open('tag_mapping.pickle', 'rb') as f3:\n",
    "                tag_mapping = pickle.load(f3)\n",
    "            with open('reverse_offertag.pickle', 'rb') as f4:\n",
    "                reverse_offertag = pickle.load(f4)   \n",
    "            with open('offer_maptb.pickle', 'rb') as f5:\n",
    "                offer_maptb = pickle.load(f5)\n",
    "            with open('offer_sparse.pickle', 'rb') as f6:\n",
    "                offer_sparse = pickle.load(f6)\n",
    "\n",
    "        model_tags = tag_mapping.keys()\n",
    "        user_tags = []\n",
    "        for i in data['batchTag']:\n",
    "            if i[u'TAG_ID'] in model_tags:\n",
    "                user_tags.append(tag_mapping[i[u'TAG_ID']])\n",
    "\n",
    "        tagging_table = np.zeros(len(model_tags))\n",
    "        for i in user_tags:\n",
    "                tagging_table[i] = 1\n",
    "\n",
    "        tagging_table = tagging_table.reshape(1,-1)\n",
    "\n",
    "        # Recommadation through user similality\n",
    "        user_similarity = pairwise.cosine_similarity(tagging_table, tag)\n",
    "        predict = np.sum(user_similarity.reshape(len(user_similarity[0]),1) * rating_table, axis = 0)\n",
    "        sort_data = sorted(range(len(predict)), key=lambda k: predict[k])\n",
    "\n",
    "        # Get top number offer tags\n",
    "        data = []\n",
    "        for i in sort_data[-number:]:\n",
    "            data.append(offerlabel_mapping[i])\n",
    "            \n",
    "        # Offer tag mapping index\n",
    "        offer = []\n",
    "        for i in data:\n",
    "            offer.append(reverse_offertag[i])\n",
    "\n",
    "        # Create offer table\n",
    "        offer_table = np.zeros(len(reverse_offertag))\n",
    "        for i in offer:\n",
    "            offer_table[i] = 1\n",
    "        \n",
    "        # Calculate Offer similarity\n",
    "        offer_similarity = pairwise.cosine_similarity(offer_table.reshape(1,-1), offer_sparse)\n",
    "        sort_data = sorted(range(len(offer_similarity[0])), key=lambda x: offer_similarity[0][x])\n",
    "        response = []\n",
    "        for i in sort_data[-offer_number:]:\n",
    "            response.append(offer_maptb[i])\n",
    "\n",
    "        return response"
   ]
  },
  {
   "cell_type": "code",
   "execution_count": 30,
   "metadata": {
    "collapsed": true
   },
   "outputs": [],
   "source": [
    "conn = redis.Redis(host='localhost',port=6379,db=0)"
   ]
  },
  {
   "cell_type": "code",
   "execution_count": 37,
   "metadata": {},
   "outputs": [],
   "source": [
    "data = json.loads(conn.get(1))"
   ]
  },
  {
   "cell_type": "code",
   "execution_count": 34,
   "metadata": {},
   "outputs": [
    {
     "data": {
      "text/plain": [
       "[u'OFF0005', u'OFF0020', u'OFF0022', u'OFF0023', u'OFF0024', u'OFF0007']"
      ]
     },
     "execution_count": 34,
     "metadata": {},
     "output_type": "execute_result"
    }
   ],
   "source": [
    "predict(dict_data)"
   ]
  },
  {
   "cell_type": "code",
   "execution_count": 35,
   "metadata": {
    "collapsed": true
   },
   "outputs": [],
   "source": [
    "with open('offerrating_table.pickle', 'rb') as f:\n",
    "    rating_table = pickle.load(f)\n",
    "with open('user_sparse.pickle', 'rb') as f1:\n",
    "    tag = pickle.load(f1)\n",
    "with open('offerlabel_mapping.pickle', 'rb') as f2:\n",
    "    offerlabel_mapping = pickle.load(f2)\n",
    "with open('tag_mapping.pickle', 'rb') as f3:\n",
    "    tag_mapping = pickle.load(f3)\n",
    "with open('reverse_offertag.pickle', 'rb') as f4:\n",
    "    reverse_offertag = pickle.load(f4)   \n",
    "with open('offer_maptb.pickle', 'rb') as f5:\n",
    "    offer_maptb = pickle.load(f5)\n",
    "with open('offer_sparse.pickle', 'rb') as f6:\n",
    "    offer_sparse = pickle.load(f6)"
   ]
  },
  {
   "cell_type": "code",
   "execution_count": 38,
   "metadata": {},
   "outputs": [],
   "source": [
    "model_tags = tag_mapping.keys()\n",
    "user_tags = []\n",
    "for i in data['batchTag']:\n",
    "    if i[u'TAG_ID'] in model_tags:\n",
    "        user_tags.append(tag_mapping[i[u'TAG_ID']])"
   ]
  },
  {
   "cell_type": "code",
   "execution_count": 39,
   "metadata": {},
   "outputs": [
    {
     "data": {
      "text/plain": [
       "[49, 51, 54, 55, 56, 69, 30, 39, 40, 20, 23, 7, 8, 133, 134, 140, 125, 148]"
      ]
     },
     "execution_count": 39,
     "metadata": {},
     "output_type": "execute_result"
    }
   ],
   "source": [
    "user_tags"
   ]
  },
  {
   "cell_type": "code",
   "execution_count": 40,
   "metadata": {
    "collapsed": true
   },
   "outputs": [],
   "source": [
    "tagging_table = np.zeros(len(model_tags))\n",
    "for i in user_tags:\n",
    "    tagging_table[i] = 1    "
   ]
  },
  {
   "cell_type": "code",
   "execution_count": 42,
   "metadata": {},
   "outputs": [],
   "source": [
    "tagging_table = tagging_table.reshape(1,-1)"
   ]
  },
  {
   "cell_type": "code",
   "execution_count": 57,
   "metadata": {},
   "outputs": [
    {
     "data": {
      "text/plain": [
       "array([ 0.10005803,  0.43887249,  0.43887249,  0.43887249,  0.33175351,\n",
       "        0.33175351,  0.33175351,  0.33175351,  0.85213953,  0.85213953,\n",
       "        0.85213953,  0.85213953,  0.16101105,  0.16101105,  0.16101105,\n",
       "        0.01807349,  0.85213953,  0.29559903,  0.01807349,  0.10367845,\n",
       "        0.10367845,  0.10367845,  0.07329083,  1.19263485,  0.69476535,\n",
       "        0.69476535,  0.10553866,  0.10005803,  0.01807349,  0.07618419,\n",
       "        0.1217291 ,  0.20670432,  0.11592   ,  0.04652016,  0.4203521 ,\n",
       "        0.85213953,  1.19263485,  1.0667451 ,  1.19263485,  0.4203521 ,\n",
       "        2.02444221,  0.16306957,  3.73700044,  0.49283711,  0.07329083,\n",
       "        0.07329083,  0.07329083,  5.31048672,  1.21499279,  4.13120084,\n",
       "        0.19566329,  0.07618419,  0.07618419,  0.59376155,  0.69476535,\n",
       "        1.19263485,  3.61228367,  0.16306957,  0.11592   ,  0.02264595,\n",
       "        0.29559903,  0.20670432,  0.1217291 ,  0.16306957,  0.07329083,\n",
       "        0.07466725,  0.11592   ,  0.19566329,  0.33175351,  0.08256443,\n",
       "        0.20670432,  0.20670432,  0.69476535,  0.4203521 ,  0.11592   ,\n",
       "        0.85509957,  0.10005803,  1.86738505,  0.2597531 ,  0.19566329,\n",
       "        0.04652016,  0.62443523,  0.04652016,  1.65200323,  0.29559903,\n",
       "        2.56154446,  0.19566329,  0.4203521 ,  0.16306957,  3.73700044,\n",
       "        0.60242228,  2.22404219,  0.21429068,  3.61228367,  0.29559903,\n",
       "        0.07329083,  0.10553866,  0.1217291 ,  0.16306957,  0.16306957,\n",
       "        0.08518536,  1.23079544,  0.69476535,  0.29559903,  0.01807349,\n",
       "        0.10553866,  0.11592   ,  0.01807349,  1.19263485,  0.01807349,\n",
       "        0.20670432,  0.29559903,  0.29559903,  0.4203521 ,  2.22404219,\n",
       "        0.25302765,  1.95068861,  2.73775778,  2.22404219,  0.25302765,\n",
       "        0.02264595,  0.03665601,  0.2597531 ,  3.30163864,  0.69476535,\n",
       "        0.29559903,  0.29559903,  0.69476535,  0.10553866,  0.11592   ,\n",
       "        0.10553866,  0.02264595,  0.01807349,  0.01807349,  0.07329083,\n",
       "        0.29232815,  0.03033694,  0.29559903,  0.07329083,  0.29232815,\n",
       "        0.25302765,  0.16101105,  1.19263485,  0.2597531 ,  0.20670432,\n",
       "        0.69476535,  0.1217291 ,  0.69476535,  0.07329083,  0.1217291 ,\n",
       "        0.10553866,  0.07329083,  0.16101105,  0.29232815,  0.25302765,\n",
       "        1.94195503,  0.19566329,  0.29559903,  0.1217291 ,  0.16306957,\n",
       "        0.02264595,  0.03033694,  1.63055497,  0.07329083,  0.29559903,\n",
       "        0.29559903,  0.25837686,  0.05926108,  1.23079544,  0.0841355 ,\n",
       "        0.52098343,  3.78907437,  0.07466725,  0.2597531 ,  0.01807349,\n",
       "        0.29559903,  0.11592   ,  1.68231437,  0.20670432,  0.07466725,\n",
       "        3.61228367,  0.03665601,  0.16306957,  3.61228367,  0.25103945,\n",
       "        0.10005803,  0.4203521 ,  0.49003177,  0.19566329,  0.20670432,\n",
       "        0.20670432,  0.11592   ,  0.29232815,  1.95068861,  1.12371877,\n",
       "        0.69476535,  0.10005803,  0.10553866,  5.49567953,  1.70865845,\n",
       "        2.67851802,  0.07466725,  1.00757521,  0.10553866,  0.10005803,\n",
       "        0.02264595,  0.25302765,  0.69476535,  0.29232815,  0.11592   ,\n",
       "        0.1217291 ,  0.10553866,  0.85213953,  0.12252955])"
      ]
     },
     "execution_count": 57,
     "metadata": {},
     "output_type": "execute_result"
    }
   ],
   "source": [
    "predict"
   ]
  },
  {
   "cell_type": "code",
   "execution_count": 44,
   "metadata": {
    "collapsed": true
   },
   "outputs": [],
   "source": [
    "# Recommadation through user similality\n",
    "user_similarity = pairwise.cosine_similarity(tagging_table, tag)"
   ]
  },
  {
   "cell_type": "code",
   "execution_count": 48,
   "metadata": {
    "collapsed": true
   },
   "outputs": [],
   "source": [
    "predict = np.sum(user_similarity.reshape(len(user_similarity[0]),1) * rating_table, axis = 0)\n",
    "sort_data = sorted(range(len(predict)), key=lambda k: predict[k])"
   ]
  },
  {
   "cell_type": "code",
   "execution_count": 59,
   "metadata": {},
   "outputs": [
    {
     "data": {
      "text/plain": [
       "[15,\n",
       " 18,\n",
       " 28,\n",
       " 104,\n",
       " 107,\n",
       " 109,\n",
       " 132,\n",
       " 133,\n",
       " 174,\n",
       " 59,\n",
       " 120,\n",
       " 131,\n",
       " 160,\n",
       " 205,\n",
       " 136,\n",
       " 161,\n",
       " 121,\n",
       " 181,\n",
       " 33,\n",
       " 80,\n",
       " 82,\n",
       " 167,\n",
       " 22,\n",
       " 44,\n",
       " 45,\n",
       " 46,\n",
       " 64,\n",
       " 95,\n",
       " 134,\n",
       " 138,\n",
       " 148,\n",
       " 151,\n",
       " 163,\n",
       " 172,\n",
       " 65,\n",
       " 179,\n",
       " 201,\n",
       " 29,\n",
       " 51,\n",
       " 52,\n",
       " 69,\n",
       " 169,\n",
       " 100,\n",
       " 0,\n",
       " 27,\n",
       " 76,\n",
       " 185,\n",
       " 196,\n",
       " 204,\n",
       " 19,\n",
       " 20,\n",
       " 21,\n",
       " 26,\n",
       " 96,\n",
       " 105,\n",
       " 128,\n",
       " 130,\n",
       " 150,\n",
       " 197,\n",
       " 203,\n",
       " 211,\n",
       " 32,\n",
       " 58,\n",
       " 66,\n",
       " 74,\n",
       " 106,\n",
       " 129,\n",
       " 176,\n",
       " 191,\n",
       " 209,\n",
       " 30,\n",
       " 62,\n",
       " 97,\n",
       " 146,\n",
       " 149,\n",
       " 158,\n",
       " 210,\n",
       " 213,\n",
       " 141,\n",
       " 152,\n",
       " 12,\n",
       " 13,\n",
       " 14,\n",
       " 41,\n",
       " 57,\n",
       " 63,\n",
       " 88,\n",
       " 98,\n",
       " 99,\n",
       " 159,\n",
       " 182,\n",
       " 50,\n",
       " 67,\n",
       " 79,\n",
       " 86,\n",
       " 156,\n",
       " 188,\n",
       " 31,\n",
       " 61,\n",
       " 70,\n",
       " 71,\n",
       " 110,\n",
       " 144,\n",
       " 178,\n",
       " 189,\n",
       " 190,\n",
       " 92,\n",
       " 184,\n",
       " 115,\n",
       " 119,\n",
       " 140,\n",
       " 154,\n",
       " 206,\n",
       " 166,\n",
       " 143,\n",
       " 78,\n",
       " 122,\n",
       " 173,\n",
       " 135,\n",
       " 139,\n",
       " 153,\n",
       " 192,\n",
       " 208,\n",
       " 17,\n",
       " 60,\n",
       " 84,\n",
       " 94,\n",
       " 103,\n",
       " 111,\n",
       " 112,\n",
       " 125,\n",
       " 126,\n",
       " 137,\n",
       " 157,\n",
       " 164,\n",
       " 165,\n",
       " 175,\n",
       " 4,\n",
       " 5,\n",
       " 6,\n",
       " 7,\n",
       " 68,\n",
       " 34,\n",
       " 39,\n",
       " 73,\n",
       " 87,\n",
       " 113,\n",
       " 186,\n",
       " 1,\n",
       " 2,\n",
       " 3,\n",
       " 187,\n",
       " 43,\n",
       " 170,\n",
       " 53,\n",
       " 90,\n",
       " 81,\n",
       " 24,\n",
       " 25,\n",
       " 54,\n",
       " 72,\n",
       " 102,\n",
       " 124,\n",
       " 127,\n",
       " 145,\n",
       " 147,\n",
       " 195,\n",
       " 207,\n",
       " 8,\n",
       " 9,\n",
       " 10,\n",
       " 11,\n",
       " 16,\n",
       " 35,\n",
       " 212,\n",
       " 75,\n",
       " 202,\n",
       " 37,\n",
       " 194,\n",
       " 23,\n",
       " 36,\n",
       " 38,\n",
       " 55,\n",
       " 108,\n",
       " 142,\n",
       " 48,\n",
       " 101,\n",
       " 168,\n",
       " 162,\n",
       " 83,\n",
       " 177,\n",
       " 199,\n",
       " 77,\n",
       " 155,\n",
       " 116,\n",
       " 193,\n",
       " 40,\n",
       " 91,\n",
       " 114,\n",
       " 118,\n",
       " 85,\n",
       " 200,\n",
       " 117,\n",
       " 123,\n",
       " 56,\n",
       " 93,\n",
       " 180,\n",
       " 183,\n",
       " 42,\n",
       " 89,\n",
       " 171,\n",
       " 49,\n",
       " 47,\n",
       " 198]"
      ]
     },
     "execution_count": 59,
     "metadata": {},
     "output_type": "execute_result"
    }
   ],
   "source": [
    "sort_data"
   ]
  },
  {
   "cell_type": "code",
   "execution_count": 62,
   "metadata": {},
   "outputs": [],
   "source": [
    "def create_table(data, data_ind):\n",
    "    table = np.zeros(len(data))\n",
    "    for i in data_ind:\n",
    "        table[i] = 1\n",
    "    table = table.reshape(1,-1)\n",
    "    return table"
   ]
  },
  {
   "cell_type": "code",
   "execution_count": 63,
   "metadata": {
    "collapsed": true
   },
   "outputs": [],
   "source": [
    "testing_data = [5, 3]"
   ]
  },
  {
   "cell_type": "code",
   "execution_count": 67,
   "metadata": {},
   "outputs": [],
   "source": [
    "a = create_table(range(10), testing_data)"
   ]
  },
  {
   "cell_type": "code",
   "execution_count": 65,
   "metadata": {
    "collapsed": true
   },
   "outputs": [],
   "source": [
    "testing_data = [5, 3]\n",
    "output = np.zeros(10)\n",
    "output[5] = 1\n",
    "output[3] = 1"
   ]
  },
  {
   "cell_type": "code",
   "execution_count": 68,
   "metadata": {},
   "outputs": [
    {
     "data": {
      "text/plain": [
       "array([[ True,  True,  True,  True,  True,  True,  True,  True,  True,\n",
       "         True]], dtype=bool)"
      ]
     },
     "execution_count": 68,
     "metadata": {},
     "output_type": "execute_result"
    }
   ],
   "source": [
    "output == a"
   ]
  },
  {
   "cell_type": "code",
   "execution_count": 85,
   "metadata": {},
   "outputs": [],
   "source": [
    "a = [1,2,3,4,5]\n",
    "b = [2,4,5,3,4]\n"
   ]
  },
  {
   "cell_type": "code",
   "execution_count": 87,
   "metadata": {},
   "outputs": [
    {
     "data": {
      "text/plain": [
       "211"
      ]
     },
     "execution_count": 87,
     "metadata": {},
     "output_type": "execute_result"
    }
   ],
   "source": [
    "np.dot(a**2,b)"
   ]
  },
  {
   "cell_type": "code",
   "execution_count": 88,
   "metadata": {},
   "outputs": [
    {
     "data": {
      "text/plain": [
       "array([ 1,  4,  9, 16, 25])"
      ]
     },
     "execution_count": 88,
     "metadata": {},
     "output_type": "execute_result"
    }
   ],
   "source": [
    "a**2"
   ]
  },
  {
   "cell_type": "code",
   "execution_count": 90,
   "metadata": {
    "collapsed": true
   },
   "outputs": [],
   "source": [
    "new_data = np.zeros(20)\n",
    "new_data[5] = 1\n",
    "new_data[3] = 1\n",
    "new_data[13] = 1\n",
    "new_data[17] = 1\n",
    "test_data_1 = np.zeros(20)\n",
    "test_data_1[5] = 1\n",
    "test_data_1[6] = 1\n",
    "test_data_1[9] = 1\n",
    "test_data_1[13] = 1\n",
    "test_data_1[19] = 1"
   ]
  },
  {
   "cell_type": "code",
   "execution_count": 106,
   "metadata": {},
   "outputs": [],
   "source": [
    "similarity_sklearn = pairwise.cosine_similarity(test_data_1.reshape(1,-1), new_data.reshape(1,-1))\n",
    "similarity_handcraft = np.dot(new_data,test_data_1)/np.dot(sum(new_data**2)**0.5,sum(test_data_1**2)**0.5)"
   ]
  },
  {
   "cell_type": "code",
   "execution_count": 107,
   "metadata": {},
   "outputs": [
    {
     "data": {
      "text/plain": [
       "array([[ 0.4472136]])"
      ]
     },
     "execution_count": 107,
     "metadata": {},
     "output_type": "execute_result"
    }
   ],
   "source": [
    "similarity_sklearn"
   ]
  },
  {
   "cell_type": "code",
   "execution_count": 108,
   "metadata": {},
   "outputs": [
    {
     "data": {
      "text/plain": [
       "0.44721359549995793"
      ]
     },
     "execution_count": 108,
     "metadata": {},
     "output_type": "execute_result"
    }
   ],
   "source": [
    "similarity_handcraft"
   ]
  },
  {
   "cell_type": "code",
   "execution_count": 97,
   "metadata": {},
   "outputs": [
    {
     "data": {
      "text/plain": [
       "2.0"
      ]
     },
     "execution_count": 97,
     "metadata": {},
     "output_type": "execute_result"
    }
   ],
   "source": [
    "np.dot(new_data,test_data_1)"
   ]
  },
  {
   "cell_type": "code",
   "execution_count": null,
   "metadata": {
    "collapsed": true
   },
   "outputs": [],
   "source": [
    "user_similarity = pairwise.pairwise_distances(offer_likes, metric='cosine')"
   ]
  },
  {
   "cell_type": "code",
   "execution_count": 109,
   "metadata": {
    "collapsed": true
   },
   "outputs": [],
   "source": [
    "new_data = np.zeros(20)\n",
    "new_data[5] = 1\n",
    "new_data[3] = 1\n",
    "new_data[13] = 1\n",
    "new_data[17] = 1\n",
    "test_data_1 = np.zeros(20)\n",
    "test_data_1[5] = 1\n",
    "test_data_1[6] = 1\n",
    "test_data_1[9] = 1\n",
    "test_data_1[13] = 1\n",
    "test_data_1[19] = 1\n",
    "test_data_2 = np.zeros(20)\n",
    "test_data_2[0] = 1\n",
    "test_data_2[10] = 1\n",
    "test_data_2[14] = 1\n",
    "test_data_2[13] = 1\n",
    "test_data_2[17] = 1\n",
    "total_data = [new_data,test_data_1,test_data_2]\n",
    "similarity_handcraft = [np.dot(new_data,new_data)/np.dot(sum(new_data**2)**0.5,sum(new_data**2)**0.5),\n",
    "                        np.dot(new_data,test_data_1)/np.dot(sum(new_data**2)**0.5,sum(test_data_1**2)**0.5),\n",
    "                        np.dot(new_data,test_data_2)/np.dot(sum(new_data**2)**0.5,sum(test_data_2**2)**0.5)]"
   ]
  },
  {
   "cell_type": "code",
   "execution_count": 110,
   "metadata": {},
   "outputs": [
    {
     "data": {
      "text/plain": [
       "[1.0, 0.44721359549995793, 0.44721359549995793]"
      ]
     },
     "execution_count": 110,
     "metadata": {},
     "output_type": "execute_result"
    }
   ],
   "source": [
    "similarity_handcraft"
   ]
  },
  {
   "cell_type": "code",
   "execution_count": null,
   "metadata": {
    "collapsed": true
   },
   "outputs": [],
   "source": []
  }
 ],
 "metadata": {
  "kernelspec": {
   "display_name": "Python 2",
   "language": "python",
   "name": "python2"
  },
  "language_info": {
   "codemirror_mode": {
    "name": "ipython",
    "version": 2
   },
   "file_extension": ".py",
   "mimetype": "text/x-python",
   "name": "python",
   "nbconvert_exporter": "python",
   "pygments_lexer": "ipython2",
   "version": "2.7.13"
  }
 },
 "nbformat": 4,
 "nbformat_minor": 2
}
