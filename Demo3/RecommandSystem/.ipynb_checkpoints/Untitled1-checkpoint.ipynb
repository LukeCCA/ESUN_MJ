{
 "cells": [
  {
   "cell_type": "code",
   "execution_count": 25,
   "metadata": {
    "collapsed": true
   },
   "outputs": [],
   "source": [
    "import os\n",
    "import sys\n",
    "import json\n",
    "import operator\n",
    "from flask import Flask,g\n",
    "import time\n",
    "from flask import jsonify\n",
    "import json\n",
    "import Collobrative_Filtering as CF\n",
    "import requests\n",
    "from flask import request\n",
    "import pickle\n",
    "import redis\n",
    "import numpy as np"
   ]
  },
  {
   "cell_type": "code",
   "execution_count": 5,
   "metadata": {},
   "outputs": [],
   "source": [
    "conn = redis.Redis(host='localhost',port=6379,db=0)"
   ]
  },
  {
   "cell_type": "code",
   "execution_count": 6,
   "metadata": {},
   "outputs": [
    {
     "data": {
      "text/plain": [
       "{u'VID': 1,\n",
       " u'batchTag': [{u'TAG_ID': u'TG0122',\n",
       "   u'TAG_VALUE': nan,\n",
       "   u'dataSource': u'WB',\n",
       "   u'expireTime': 1512036934.331561,\n",
       "   u'isValid': u'Y',\n",
       "   u'scenario': {u'DIIS1': u'H', u'DIIS2': u'SHP', u'DIIS3': u'SHP04'},\n",
       "   u'securityFilter': u'admin',\n",
       "   u'tagTime': 1512036906.33156},\n",
       "  {u'TAG_ID': u'TG0124',\n",
       "   u'TAG_VALUE': nan,\n",
       "   u'dataSource': u'WB',\n",
       "   u'expireTime': 1512036934.334418,\n",
       "   u'isValid': u'Y',\n",
       "   u'scenario': {u'DIIS1': u'H', u'DIIS2': u'SHP', u'DIIS3': u'SHP06'},\n",
       "   u'securityFilter': u'admin',\n",
       "   u'tagTime': 1512036906.334417},\n",
       "  {u'TAG_ID': u'TG0127',\n",
       "   u'TAG_VALUE': nan,\n",
       "   u'dataSource': u'CC',\n",
       "   u'expireTime': 1512036934.336666,\n",
       "   u'isValid': u'Y',\n",
       "   u'scenario': {u'DIIS1': u'H', u'DIIS2': u'SHP', u'DIIS3': u'SHP02'},\n",
       "   u'securityFilter': u'admin',\n",
       "   u'tagTime': 1512036906.336665},\n",
       "  {u'TAG_ID': u'TG0128',\n",
       "   u'TAG_VALUE': nan,\n",
       "   u'dataSource': u'NB',\n",
       "   u'expireTime': 1512036934.338787,\n",
       "   u'isValid': u'Y',\n",
       "   u'scenario': {u'DIIS1': u'H', u'DIIS2': u'SHP', u'DIIS3': u'SHP03'},\n",
       "   u'securityFilter': u'admin',\n",
       "   u'tagTime': 1512036906.338787},\n",
       "  {u'TAG_ID': u'TG0129',\n",
       "   u'TAG_VALUE': nan,\n",
       "   u'dataSource': u'PTT',\n",
       "   u'expireTime': 1512036934.340848,\n",
       "   u'isValid': u'Y',\n",
       "   u'scenario': {u'DIIS1': u'H', u'DIIS2': u'SHP', u'DIIS3': u'SHP04'},\n",
       "   u'securityFilter': u'admin',\n",
       "   u'tagTime': 1512036906.340847},\n",
       "  {u'TAG_ID': u'TG0203',\n",
       "   u'TAG_VALUE': nan,\n",
       "   u'dataSource': u'WB',\n",
       "   u'expireTime': 1512036934.342875,\n",
       "   u'isValid': u'Y',\n",
       "   u'scenario': {u'DIIS1': u'B', u'DIIS2': u'CC03', u'DIIS3': u'CC0348'},\n",
       "   u'securityFilter': u'admin',\n",
       "   u'tagTime': 1512036906.342874},\n",
       "  {u'TAG_ID': u'TG0087',\n",
       "   u'TAG_VALUE': nan,\n",
       "   u'dataSource': u'CC',\n",
       "   u'expireTime': 1512036934.344899,\n",
       "   u'isValid': u'Y',\n",
       "   u'scenario': {u'DIIS1': u'I', u'DIIS2': u'CC', u'DIIS3': u'CC20'},\n",
       "   u'securityFilter': u'admin',\n",
       "   u'tagTime': 1512036906.344898},\n",
       "  {u'TAG_ID': u'TG0096',\n",
       "   u'TAG_VALUE': nan,\n",
       "   u'dataSource': u'CC',\n",
       "   u'expireTime': 1512036936.34692,\n",
       "   u'isValid': u'Y',\n",
       "   u'scenario': {u'DIIS1': u'I', u'DIIS2': u'CC', u'DIIS3': u'CC09'},\n",
       "   u'securityFilter': u'admin',\n",
       "   u'tagTime': 1512036906.34692},\n",
       "  {u'TAG_ID': u'TG0109',\n",
       "   u'TAG_VALUE': nan,\n",
       "   u'dataSource': u'PTT',\n",
       "   u'expireTime': 1512036934.348904,\n",
       "   u'isValid': u'Y',\n",
       "   u'scenario': {u'DIIS1': u'I', u'DIIS2': u'CC', u'DIIS3': u'CC20'},\n",
       "   u'securityFilter': u'admin',\n",
       "   u'tagTime': 1512036906.348904},\n",
       "  {u'TAG_ID': u'TG0038',\n",
       "   u'TAG_VALUE': nan,\n",
       "   u'dataSource': u'CC',\n",
       "   u'expireTime': 1512036936.351257,\n",
       "   u'isValid': u'Y',\n",
       "   u'scenario': {u'DIIS1': u'I', u'DIIS2': u'LN', u'DIIS3': u'LN18'},\n",
       "   u'securityFilter': u'admin',\n",
       "   u'tagTime': 1512036906.351256},\n",
       "  {u'TAG_ID': u'TG0043',\n",
       "   u'TAG_VALUE': nan,\n",
       "   u'dataSource': u'WB',\n",
       "   u'expireTime': 1512036934.353525,\n",
       "   u'isValid': u'Y',\n",
       "   u'scenario': {u'DIIS1': u'I', u'DIIS2': u'LN', u'DIIS3': u'LN01'},\n",
       "   u'securityFilter': u'admin',\n",
       "   u'tagTime': 1512036906.353525},\n",
       "  {u'TAG_ID': u'TG0021',\n",
       "   u'TAG_VALUE': nan,\n",
       "   u'dataSource': u'WB',\n",
       "   u'expireTime': 1512036934.355619,\n",
       "   u'isValid': u'Y',\n",
       "   u'scenario': {u'DIIS1': u'I', u'DIIS2': u'LN', u'DIIS3': u'LN01'},\n",
       "   u'securityFilter': u'admin',\n",
       "   u'tagTime': 1512036906.355618},\n",
       "  {u'TAG_ID': u'TG0022',\n",
       "   u'TAG_VALUE': nan,\n",
       "   u'dataSource': u'WB',\n",
       "   u'expireTime': 1512036934.357652,\n",
       "   u'isValid': u'Y',\n",
       "   u'scenario': {u'DIIS1': u'I', u'DIIS2': u'LN', u'DIIS3': u'LN02'},\n",
       "   u'securityFilter': u'admin',\n",
       "   u'tagTime': 1512036906.357651},\n",
       "  {u'TAG_ID': u'TG0357',\n",
       "   u'TAG_VALUE': nan,\n",
       "   u'dataSource': u'CC',\n",
       "   u'expireTime': 1512036936.359643,\n",
       "   u'isValid': u'Y',\n",
       "   u'scenario': {u'DIIS1': u'R', u'DIIS2': u'REC01', u'DIIS3': u'28'},\n",
       "   u'securityFilter': u'admin',\n",
       "   u'tagTime': 1512036906.359643},\n",
       "  {u'TAG_ID': u'TG0363',\n",
       "   u'TAG_VALUE': nan,\n",
       "   u'dataSource': u'WB',\n",
       "   u'expireTime': 1512036934.361598,\n",
       "   u'isValid': u'Y',\n",
       "   u'scenario': {u'DIIS1': u'R', u'DIIS2': u'REC01', u'DIIS3': u'34'},\n",
       "   u'securityFilter': u'admin',\n",
       "   u'tagTime': 1512036906.361598},\n",
       "  {u'TAG_ID': u'TG0375',\n",
       "   u'TAG_VALUE': nan,\n",
       "   u'dataSource': u'CC',\n",
       "   u'expireTime': 1512036936.363528,\n",
       "   u'isValid': u'Y',\n",
       "   u'scenario': {u'DIIS1': u'R', u'DIIS2': u'REC01', u'DIIS3': u'46'},\n",
       "   u'securityFilter': u'admin',\n",
       "   u'tagTime': 1512036906.363528},\n",
       "  {u'TAG_ID': u'TG0344',\n",
       "   u'TAG_VALUE': nan,\n",
       "   u'dataSource': u'WB',\n",
       "   u'expireTime': 1512036934.36536,\n",
       "   u'isValid': u'Y',\n",
       "   u'scenario': {u'DIIS1': u'R', u'DIIS2': u'REC01', u'DIIS3': u'15'},\n",
       "   u'securityFilter': u'admin',\n",
       "   u'tagTime': 1512036906.36536},\n",
       "  {u'TAG_ID': u'TG0389',\n",
       "   u'TAG_VALUE': nan,\n",
       "   u'dataSource': u'PTT',\n",
       "   u'expireTime': 1512036934.367933,\n",
       "   u'isValid': u'Y',\n",
       "   u'scenario': {u'DIIS1': u'R', u'DIIS2': u'REC01', u'DIIS3': u'60'},\n",
       "   u'securityFilter': u'admin',\n",
       "   u'tagTime': 1512036906.367932},\n",
       "  {u'TAG_ID': u'SEG001',\n",
       "   u'TAG_VALUE': 1.0,\n",
       "   u'dataSource': u'EBM',\n",
       "   u'expireTime': 1512036936.369984,\n",
       "   u'isValid': u'Y',\n",
       "   u'scenario': {u'DIIS1': u'S', u'DIIS2': u'SEG001', u'DIIS3': u'01'},\n",
       "   u'securityFilter': u'admin',\n",
       "   u'tagTime': 1512036906.369984},\n",
       "  {u'TAG_ID': u'SEG002',\n",
       "   u'TAG_VALUE': 1.0,\n",
       "   u'dataSource': u'EBM',\n",
       "   u'expireTime': 1512036936.371849,\n",
       "   u'isValid': u'Y',\n",
       "   u'scenario': {u'DIIS1': u'S', u'DIIS2': u'SEG002', u'DIIS3': u'02'},\n",
       "   u'securityFilter': u'admin',\n",
       "   u'tagTime': 1512036906.371849}],\n",
       " u'realtimeTag': [{u'Chinese_Desc': u'\\u751f\\u6d3b/\\u751f\\u6d3b\\u767e\\u8ca8/\\u5b98\\u7db2',\n",
       "   u'TAG_ID': u'TG0122',\n",
       "   u'createTime': 17385,\n",
       "   u'dataSource': u'WB',\n",
       "   u'expireAfter': 28,\n",
       "   u'isActive': u'Y',\n",
       "   u'modelId': u'MINT00001',\n",
       "   u'operationType': u'Batch',\n",
       "   u'recommedWeight': 1,\n",
       "   u'referenceDocument': u'INTENTION_REF',\n",
       "   u'scenario': {u'DIIS1': u'H', u'DIIS2': u'SHP', u'DIIS3': u'SHP04'},\n",
       "   u'securityFilter': u'admin',\n",
       "   u'tagVersion': u'V1',\n",
       "   u'updateTime': 17385}]}"
      ]
     },
     "execution_count": 6,
     "metadata": {},
     "output_type": "execute_result"
    }
   ],
   "source": []
  },
  {
   "cell_type": "code",
   "execution_count": 7,
   "metadata": {
    "collapsed": true
   },
   "outputs": [],
   "source": [
    "model = CF.COLLOBORATIVE_FILTERING()"
   ]
  },
  {
   "cell_type": "code",
   "execution_count": 15,
   "metadata": {
    "collapsed": true
   },
   "outputs": [],
   "source": [
    "test = json.loads(conn.get(1))"
   ]
  },
  {
   "cell_type": "code",
   "execution_count": 11,
   "metadata": {},
   "outputs": [
    {
     "ename": "ValueError",
     "evalue": "Input contains NaN, infinity or a value too large for dtype('float64').",
     "output_type": "error",
     "traceback": [
      "\u001b[0;31m---------------------------------------------------------------------------\u001b[0m",
      "\u001b[0;31mValueError\u001b[0m                                Traceback (most recent call last)",
      "\u001b[0;32m<ipython-input-11-5cf203b7c6af>\u001b[0m in \u001b[0;36m<module>\u001b[0;34m()\u001b[0m\n\u001b[0;32m----> 1\u001b[0;31m \u001b[0mmodel\u001b[0m\u001b[0;34m.\u001b[0m\u001b[0mpredict\u001b[0m\u001b[0;34m(\u001b[0m\u001b[0mjson\u001b[0m\u001b[0;34m.\u001b[0m\u001b[0mloads\u001b[0m\u001b[0;34m(\u001b[0m\u001b[0mconn\u001b[0m\u001b[0;34m.\u001b[0m\u001b[0mget\u001b[0m\u001b[0;34m(\u001b[0m\u001b[0;36m1\u001b[0m\u001b[0;34m)\u001b[0m\u001b[0;34m)\u001b[0m\u001b[0;34m,\u001b[0m \u001b[0mFalse\u001b[0m\u001b[0;34m,\u001b[0m \u001b[0;36m20\u001b[0m\u001b[0;34m)\u001b[0m\u001b[0;34m\u001b[0m\u001b[0m\n\u001b[0m",
      "\u001b[0;32m/Users/chienan/Job/ESUN_MJ/Demo3/RecommandSystem/Collobrative_Filtering.pyc\u001b[0m in \u001b[0;36mpredict\u001b[0;34m(self, data, online, number, rating_table, tag, offerlabel_mapping, tag_mapping, reverse_offertag, offer_maptb, offer_sparse)\u001b[0m\n\u001b[1;32m    127\u001b[0m \u001b[0;34m\u001b[0m\u001b[0m\n\u001b[1;32m    128\u001b[0m         \u001b[0;31m# Recommadation through user similality\u001b[0m\u001b[0;34m\u001b[0m\u001b[0;34m\u001b[0m\u001b[0m\n\u001b[0;32m--> 129\u001b[0;31m         \u001b[0muser_similarity\u001b[0m \u001b[0;34m=\u001b[0m \u001b[0mpairwise\u001b[0m\u001b[0;34m.\u001b[0m\u001b[0mcosine_similarity\u001b[0m\u001b[0;34m(\u001b[0m\u001b[0mtagging_table\u001b[0m\u001b[0;34m,\u001b[0m \u001b[0mtag\u001b[0m\u001b[0;34m)\u001b[0m\u001b[0;34m\u001b[0m\u001b[0m\n\u001b[0m\u001b[1;32m    130\u001b[0m         \u001b[0mpredict\u001b[0m \u001b[0;34m=\u001b[0m \u001b[0mnp\u001b[0m\u001b[0;34m.\u001b[0m\u001b[0msum\u001b[0m\u001b[0;34m(\u001b[0m\u001b[0muser_similarity\u001b[0m\u001b[0;34m.\u001b[0m\u001b[0mreshape\u001b[0m\u001b[0;34m(\u001b[0m\u001b[0mlen\u001b[0m\u001b[0;34m(\u001b[0m\u001b[0muser_similarity\u001b[0m\u001b[0;34m[\u001b[0m\u001b[0;36m0\u001b[0m\u001b[0;34m]\u001b[0m\u001b[0;34m)\u001b[0m\u001b[0;34m,\u001b[0m\u001b[0;36m1\u001b[0m\u001b[0;34m)\u001b[0m \u001b[0;34m*\u001b[0m \u001b[0mrating_table\u001b[0m\u001b[0;34m,\u001b[0m \u001b[0maxis\u001b[0m \u001b[0;34m=\u001b[0m \u001b[0;36m0\u001b[0m\u001b[0;34m)\u001b[0m\u001b[0;34m\u001b[0m\u001b[0m\n\u001b[1;32m    131\u001b[0m         \u001b[0msort_label\u001b[0m \u001b[0;34m=\u001b[0m \u001b[0msort_output\u001b[0m\u001b[0;34m(\u001b[0m\u001b[0mpredict\u001b[0m\u001b[0;34m)\u001b[0m\u001b[0;34m\u001b[0m\u001b[0m\n",
      "\u001b[0;32m/Users/chienan/anaconda2/lib/python2.7/site-packages/sklearn/metrics/pairwise.pyc\u001b[0m in \u001b[0;36mcosine_similarity\u001b[0;34m(X, Y, dense_output)\u001b[0m\n\u001b[1;32m    908\u001b[0m     \u001b[0;31m# to avoid recursive import\u001b[0m\u001b[0;34m\u001b[0m\u001b[0;34m\u001b[0m\u001b[0m\n\u001b[1;32m    909\u001b[0m \u001b[0;34m\u001b[0m\u001b[0m\n\u001b[0;32m--> 910\u001b[0;31m     \u001b[0mX\u001b[0m\u001b[0;34m,\u001b[0m \u001b[0mY\u001b[0m \u001b[0;34m=\u001b[0m \u001b[0mcheck_pairwise_arrays\u001b[0m\u001b[0;34m(\u001b[0m\u001b[0mX\u001b[0m\u001b[0;34m,\u001b[0m \u001b[0mY\u001b[0m\u001b[0;34m)\u001b[0m\u001b[0;34m\u001b[0m\u001b[0m\n\u001b[0m\u001b[1;32m    911\u001b[0m \u001b[0;34m\u001b[0m\u001b[0m\n\u001b[1;32m    912\u001b[0m     \u001b[0mX_normalized\u001b[0m \u001b[0;34m=\u001b[0m \u001b[0mnormalize\u001b[0m\u001b[0;34m(\u001b[0m\u001b[0mX\u001b[0m\u001b[0;34m,\u001b[0m \u001b[0mcopy\u001b[0m\u001b[0;34m=\u001b[0m\u001b[0mTrue\u001b[0m\u001b[0;34m)\u001b[0m\u001b[0;34m\u001b[0m\u001b[0m\n",
      "\u001b[0;32m/Users/chienan/anaconda2/lib/python2.7/site-packages/sklearn/metrics/pairwise.pyc\u001b[0m in \u001b[0;36mcheck_pairwise_arrays\u001b[0;34m(X, Y, precomputed, dtype)\u001b[0m\n\u001b[1;32m    107\u001b[0m     \u001b[0;32melse\u001b[0m\u001b[0;34m:\u001b[0m\u001b[0;34m\u001b[0m\u001b[0m\n\u001b[1;32m    108\u001b[0m         X = check_array(X, accept_sparse='csr', dtype=dtype,\n\u001b[0;32m--> 109\u001b[0;31m                         warn_on_dtype=warn_on_dtype, estimator=estimator)\n\u001b[0m\u001b[1;32m    110\u001b[0m         Y = check_array(Y, accept_sparse='csr', dtype=dtype,\n\u001b[1;32m    111\u001b[0m                         warn_on_dtype=warn_on_dtype, estimator=estimator)\n",
      "\u001b[0;32m/Users/chienan/anaconda2/lib/python2.7/site-packages/sklearn/utils/validation.pyc\u001b[0m in \u001b[0;36mcheck_array\u001b[0;34m(array, accept_sparse, dtype, order, copy, force_all_finite, ensure_2d, allow_nd, ensure_min_samples, ensure_min_features, warn_on_dtype, estimator)\u001b[0m\n\u001b[1;32m    405\u001b[0m                              % (array.ndim, estimator_name))\n\u001b[1;32m    406\u001b[0m         \u001b[0;32mif\u001b[0m \u001b[0mforce_all_finite\u001b[0m\u001b[0;34m:\u001b[0m\u001b[0;34m\u001b[0m\u001b[0m\n\u001b[0;32m--> 407\u001b[0;31m             \u001b[0m_assert_all_finite\u001b[0m\u001b[0;34m(\u001b[0m\u001b[0marray\u001b[0m\u001b[0;34m)\u001b[0m\u001b[0;34m\u001b[0m\u001b[0m\n\u001b[0m\u001b[1;32m    408\u001b[0m \u001b[0;34m\u001b[0m\u001b[0m\n\u001b[1;32m    409\u001b[0m     \u001b[0mshape_repr\u001b[0m \u001b[0;34m=\u001b[0m \u001b[0m_shape_repr\u001b[0m\u001b[0;34m(\u001b[0m\u001b[0marray\u001b[0m\u001b[0;34m.\u001b[0m\u001b[0mshape\u001b[0m\u001b[0;34m)\u001b[0m\u001b[0;34m\u001b[0m\u001b[0m\n",
      "\u001b[0;32m/Users/chienan/anaconda2/lib/python2.7/site-packages/sklearn/utils/validation.pyc\u001b[0m in \u001b[0;36m_assert_all_finite\u001b[0;34m(X)\u001b[0m\n\u001b[1;32m     56\u001b[0m             and not np.isfinite(X).all()):\n\u001b[1;32m     57\u001b[0m         raise ValueError(\"Input contains NaN, infinity\"\n\u001b[0;32m---> 58\u001b[0;31m                          \" or a value too large for %r.\" % X.dtype)\n\u001b[0m\u001b[1;32m     59\u001b[0m \u001b[0;34m\u001b[0m\u001b[0m\n\u001b[1;32m     60\u001b[0m \u001b[0;34m\u001b[0m\u001b[0m\n",
      "\u001b[0;31mValueError\u001b[0m: Input contains NaN, infinity or a value too large for dtype('float64')."
     ]
    }
   ],
   "source": [
    "model.predict(json.loads(conn.get(1)), False, 20)"
   ]
  },
  {
   "cell_type": "code",
   "execution_count": 17,
   "metadata": {},
   "outputs": [],
   "source": [
    "model_tags = tag_mapping.keys()\n",
    "user_tags = []\n",
    "for i in test['batchTag']:\n",
    "    if i[u'TAG_ID'] in model_tags:\n",
    "        user_tags.append(tag_mapping[i[u'TAG_ID']])"
   ]
  },
  {
   "cell_type": "code",
   "execution_count": 13,
   "metadata": {
    "collapsed": true
   },
   "outputs": [],
   "source": [
    "with open('tag_mapping.pickle', 'rb') as f3:\n",
    "    tag_mapping = pickle.load(f3)"
   ]
  },
  {
   "cell_type": "code",
   "execution_count": 18,
   "metadata": {
    "collapsed": true
   },
   "outputs": [],
   "source": [
    "with open('user_sparse.pickle', 'rb') as f1:\n",
    "    tag = pickle.load(f1)"
   ]
  },
  {
   "cell_type": "code",
   "execution_count": 21,
   "metadata": {},
   "outputs": [
    {
     "data": {
      "text/plain": [
       "array([[ 2.,  2.,  1., ...,  1.,  1.,  1.],\n",
       "       [ 1.,  2.,  1., ...,  1.,  1.,  1.],\n",
       "       [ 1.,  1.,  1., ...,  1.,  1.,  2.],\n",
       "       ..., \n",
       "       [ 1.,  1.,  1., ...,  1.,  1.,  1.],\n",
       "       [ 1.,  2.,  1., ...,  1.,  1.,  1.],\n",
       "       [ 1.,  2.,  1., ...,  1.,  1.,  1.]])"
      ]
     },
     "execution_count": 21,
     "metadata": {},
     "output_type": "execute_result"
    }
   ],
   "source": [
    "tag.toarray()"
   ]
  },
  {
   "cell_type": "code",
   "execution_count": 36,
   "metadata": {},
   "outputs": [
    {
     "name": "stdout",
     "output_type": "stream",
     "text": [
      "[ 0.  0.  0.  0.  0.  0.  0.  0.  0.  0.  0.  0.  0.  0.  0.  0.  0.  0.\n",
      "  0.  0.  0.  0.  0.  0.  0.  0.  0.  0.  0.  0.  0.  0.  0.  0.  0.  0.\n",
      "  0.  0.  0.  0.  0.  0.  0.  0.  0.  0.  0.  0.  0.  0.  0.  0.  0.  0.\n",
      "  0.  0.  0.  0.  0.  0.  0.  0.  0.  0.  0.  0.  0.  0.  0.  0.  0.  0.\n",
      "  0.  0.  0.  0.  0.  0.  0.  0.  0.  0.  0.  0.  0.  0.  0.  0.  0.  0.\n",
      "  0.  0.  0.  0.  0.  0.  0.  0.  0.  0.  0.  0.  0.  0.  0.  0.  0.  0.\n",
      "  0.  0.  0.  0.  0.  0.  0.  0.  0.  0.  0.  0.  0.  0.  0.  0.  0.  0.\n",
      "  0.  0.  0.  0.  0.  0.  0.  0.  0.  0.  0.  0.  0.  0.  0.  0.  0.  0.\n",
      "  0.  0.  0.  0.  0.  0.  0.  0.  0.  0.  0.  0.  0.  0.  0.  0.  0.  0.\n",
      "  0.  0.]\n"
     ]
    }
   ],
   "source": [
    "tagging_table = create_table(model_tags, user_tags)"
   ]
  },
  {
   "cell_type": "code",
   "execution_count": 35,
   "metadata": {
    "collapsed": true
   },
   "outputs": [],
   "source": [
    "def create_table(data, data_ind):\n",
    "    table = np.zeros(len(data))\n",
    "    for i in data_ind:\n",
    "        table[i] = 1\n",
    "    table = table.reshape(1,-1)\n",
    "    print table\n",
    "    return table"
   ]
  },
  {
   "cell_type": "code",
   "execution_count": 30,
   "metadata": {},
   "outputs": [
    {
     "name": "stdout",
     "output_type": "stream",
     "text": [
      "49\n"
     ]
    }
   ],
   "source": [
    "for i in user_tags:\n",
    "    print i\n",
    "    break"
   ]
  },
  {
   "cell_type": "code",
   "execution_count": 32,
   "metadata": {},
   "outputs": [],
   "source": [
    "table = np.zeros(len(model_tags))"
   ]
  },
  {
   "cell_type": "code",
   "execution_count": 33,
   "metadata": {},
   "outputs": [
    {
     "data": {
      "text/plain": [
       "array([ 0.,  0.,  0.,  0.,  0.,  0.,  0.,  0.,  0.,  0.,  0.,  0.,  0.,\n",
       "        0.,  0.,  0.,  0.,  0.,  0.,  0.,  0.,  0.,  0.,  0.,  0.,  0.,\n",
       "        0.,  0.,  0.,  0.,  0.,  0.,  0.,  0.,  0.,  0.,  0.,  0.,  0.,\n",
       "        0.,  0.,  0.,  0.,  0.,  0.,  0.,  0.,  0.,  0.,  0.,  0.,  0.,\n",
       "        0.,  0.,  0.,  0.,  0.,  0.,  0.,  0.,  0.,  0.,  0.,  0.,  0.,\n",
       "        0.,  0.,  0.,  0.,  0.,  0.,  0.,  0.,  0.,  0.,  0.,  0.,  0.,\n",
       "        0.,  0.,  0.,  0.,  0.,  0.,  0.,  0.,  0.,  0.,  0.,  0.,  0.,\n",
       "        0.,  0.,  0.,  0.,  0.,  0.,  0.,  0.,  0.,  0.,  0.,  0.,  0.,\n",
       "        0.,  0.,  0.,  0.,  0.,  0.,  0.,  0.,  0.,  0.,  0.,  0.,  0.,\n",
       "        0.,  0.,  0.,  0.,  0.,  0.,  0.,  0.,  0.,  0.,  0.,  0.,  0.,\n",
       "        0.,  0.,  0.,  0.,  0.,  0.,  0.,  0.,  0.,  0.,  0.,  0.,  0.,\n",
       "        0.,  0.,  0.,  0.,  0.,  0.,  0.,  0.,  0.,  0.,  0.,  0.,  0.,\n",
       "        0.,  0.,  0.,  0.,  0.,  0.,  0.,  0.])"
      ]
     },
     "execution_count": 33,
     "metadata": {},
     "output_type": "execute_result"
    }
   ],
   "source": [
    "table"
   ]
  },
  {
   "cell_type": "code",
   "execution_count": null,
   "metadata": {
    "collapsed": true
   },
   "outputs": [],
   "source": []
  }
 ],
 "metadata": {
  "kernelspec": {
   "display_name": "Python 2",
   "language": "python",
   "name": "python2"
  },
  "language_info": {
   "codemirror_mode": {
    "name": "ipython",
    "version": 2
   },
   "file_extension": ".py",
   "mimetype": "text/x-python",
   "name": "python",
   "nbconvert_exporter": "python",
   "pygments_lexer": "ipython2",
   "version": "2.7.13"
  }
 },
 "nbformat": 4,
 "nbformat_minor": 2
}
