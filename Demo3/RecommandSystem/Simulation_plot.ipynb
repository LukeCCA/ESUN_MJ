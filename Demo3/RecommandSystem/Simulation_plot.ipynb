{
 "cells": [
  {
   "cell_type": "code",
   "execution_count": 107,
   "metadata": {},
   "outputs": [],
   "source": [
    "import math\n",
    "import random\n",
    "import matplotlib.pyplot as plt"
   ]
  },
  {
   "cell_type": "code",
   "execution_count": 108,
   "metadata": {
    "collapsed": true
   },
   "outputs": [],
   "source": [
    "def mix_binomial(cut_point,prob_1,prob_2):\n",
    "    #命中率，命中後點擊率，非命中後點擊率\n",
    "    random_cut = random.random()\n",
    "    random_prob = random.random()\n",
    "    answer = -0.5\n",
    "    hit_point=-0.5\n",
    "    if random_cut<= cut_point:\n",
    "        hit_point = 0.5\n",
    "        if random_prob<=prob_1:\n",
    "            answer = 0.5\n",
    "    else:\n",
    "        if random_prob<=prob_2:\n",
    "            answer = 0.5\n",
    "    return hit_point,answer"
   ]
  },
  {
   "cell_type": "code",
   "execution_count": 109,
   "metadata": {},
   "outputs": [
    {
     "data": {
      "text/plain": [
       "-0.5"
      ]
     },
     "execution_count": 109,
     "metadata": {},
     "output_type": "execute_result"
    }
   ],
   "source": [
    "mix_binomial(0.5,0.75,0.5)[0]"
   ]
  },
  {
   "cell_type": "code",
   "execution_count": 110,
   "metadata": {
    "collapsed": true
   },
   "outputs": [],
   "source": [
    "def get_alot_mixbio(sample_size,cut_point,prob_1,prob_2):\n",
    "    x,y=[],[]\n",
    "    for i in range(sample_size):\n",
    "        data=mix_binomial(cut_point,prob_1,prob_2)\n",
    "        x.append(data[0]+random.uniform(-0.5,0.5))\n",
    "        y.append(data[1]+random.uniform(-0.5,0.5))\n",
    "    return x,y\n",
    "        "
   ]
  },
  {
   "cell_type": "code",
   "execution_count": 111,
   "metadata": {},
   "outputs": [],
   "source": [
    "data=get_alot_mixbio(100,0.5,0.75,0.5)"
   ]
  },
  {
   "cell_type": "code",
   "execution_count": 112,
   "metadata": {},
   "outputs": [
    {
     "data": {
      "image/png": "[encoded data removed]",
      "text/plain": [
       "<matplotlib.figure.Figure at 0x10bc08150>"
      ]
     },
     "metadata": {},
     "output_type": "display_data"
    },
    {
     "data": {
      "image/png": "[encoded data removed]",
      "text/plain": [
       "<matplotlib.figure.Figure at 0x10bc08150>"
      ]
     },
     "metadata": {},
     "output_type": "display_data"
    }
   ],
   "source": [
    "%matplotlib inline\n",
    "import time\n",
    "import pylab as pl\n",
    "from IPython import display\n",
    "plt.xticks([-1, 1], [\"$-1$\", \"$0$\", \"$+1$\"])\n",
    "plt.yticks([-1,0, 1], [\"$-1$\", \"$0$\", \"$+1$\"])\n",
    "ax = plt.gca() # get current axes\n",
    "\n",
    "ax.spines['top'].set_color('none')\n",
    "ax.spines['bottom'].set_position(('data', 0))\n",
    "ax.spines['left'].set_position(('data', 0))\n",
    "ax.spines['right'].set_position(('data', 0))\n",
    "overall_x = []\n",
    "overall_y=[]\n",
    "for i in range(5):\n",
    "    data=get_alot_mixbio(100,0.5,0.9,0.9)\n",
    "    overall_x = overall_x + data[0]\n",
    "    overall_y = overall_y + data[1]\n",
    "    pl.scatter(data[0],data[1],color='b')\n",
    "    display.clear_output(wait=True)\n",
    "    display.display(pl.gcf())\n",
    "    time.sleep(0.3)\n"
   ]
  },
  {
   "cell_type": "code",
   "execution_count": 113,
   "metadata": {},
   "outputs": [],
   "source": [
    "def get_accurency(overall_x,overall_y):\n",
    "    count=0\n",
    "    for i in range(len(overall_x)):\n",
    "        if overall_x[i] * overall_y[i]>0 :\n",
    "            count = count+1\n",
    "    print (count/float(len(overall_x)))"
   ]
  },
  {
   "cell_type": "code",
   "execution_count": 114,
   "metadata": {},
   "outputs": [
    {
     "name": "stdout",
     "output_type": "stream",
     "text": [
      "0.47\n"
     ]
    }
   ],
   "source": [
    "get_accurency(overall_x,overall_y)"
   ]
  },
  {
   "cell_type": "code",
   "execution_count": 94,
   "metadata": {
    "collapsed": true
   },
   "outputs": [],
   "source": []
  },
  {
   "cell_type": "code",
   "execution_count": null,
   "metadata": {
    "collapsed": true
   },
   "outputs": [],
   "source": []
  }
 ],
 "metadata": {
  "kernelspec": {
   "display_name": "Python 2",
   "language": "python",
   "name": "python2"
  },
  "language_info": {
   "codemirror_mode": {
    "name": "ipython",
    "version": 2
   },
   "file_extension": ".py",
   "mimetype": "text/x-python",
   "name": "python",
   "nbconvert_exporter": "python",
   "pygments_lexer": "ipython2",
   "version": "2.7.13"
  }
 },
 "nbformat": 4,
 "nbformat_minor": 1
}
