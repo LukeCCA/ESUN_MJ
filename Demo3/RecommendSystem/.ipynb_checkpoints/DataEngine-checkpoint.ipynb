{
 "cells": [
  {
   "cell_type": "code",
   "execution_count": 1,
   "metadata": {
    "collapsed": true
   },
   "outputs": [],
   "source": [
    "import Collobrative_Filtering as CF\n",
    "import pandas as pd\n",
    "import numpy as np\n",
    "import inspect\n",
    "import os\n",
    "import pickle\n",
    "from scipy import sparse \n",
    "from sklearn.metrics import pairwise"
   ]
  },
  {
   "cell_type": "code",
   "execution_count": 2,
   "metadata": {
    "collapsed": true
   },
   "outputs": [],
   "source": [
    "# Load Data\n",
    "file_path = inspect.getfile(inspect.currentframe())\n",
    "file_direction = os.path.dirname(os.path.abspath(file_path))\n",
    "offertagging = os.path.join(file_direction, 'OFFER_LOG_WITH_COUNT.xlsx')\n",
    "usertagging = os.path.join(file_direction, 'MJ_TAG.xlsx')\n",
    "offers = os.path.join(file_direction, 'OfferTag_1120.xlsx')\n",
    "offertagging = pd.read_excel(offertagging)\n",
    "usertagging = pd.read_excel(usertagging)\n",
    "offers = pd.read_excel(offers)"
   ]
  },
  {
   "cell_type": "code",
   "execution_count": 3,
   "metadata": {
    "collapsed": true
   },
   "outputs": [],
   "source": [
    "offer_avgclick = offers[['OFFER','AvgClick','CampaignName']]\n",
    "offer_avgclick = offer_avgclick[~offer_avgclick.AvgClick.isnull()]"
   ]
  },
  {
   "cell_type": "code",
   "execution_count": 4,
   "metadata": {},
   "outputs": [
    {
     "data": {
      "text/html": [
       "<div>\n",
       "<style>\n",
       "    .dataframe thead tr:only-child th {\n",
       "        text-align: right;\n",
       "    }\n",
       "\n",
       "    .dataframe thead th {\n",
       "        text-align: left;\n",
       "    }\n",
       "\n",
       "    .dataframe tbody tr th {\n",
       "        vertical-align: top;\n",
       "    }\n",
       "</style>\n",
       "<table border=\"1\" class=\"dataframe\">\n",
       "  <thead>\n",
       "    <tr style=\"text-align: right;\">\n",
       "      <th></th>\n",
       "      <th>ID</th>\n",
       "      <th>OFFER_ID</th>\n",
       "      <th>COUNT</th>\n",
       "    </tr>\n",
       "  </thead>\n",
       "  <tbody>\n",
       "    <tr>\n",
       "      <th>0</th>\n",
       "      <td>1463</td>\n",
       "      <td>OFF0023</td>\n",
       "      <td>28</td>\n",
       "    </tr>\n",
       "    <tr>\n",
       "      <th>1</th>\n",
       "      <td>1218</td>\n",
       "      <td>OFF0022</td>\n",
       "      <td>18</td>\n",
       "    </tr>\n",
       "    <tr>\n",
       "      <th>2</th>\n",
       "      <td>1218</td>\n",
       "      <td>OFF0025</td>\n",
       "      <td>18</td>\n",
       "    </tr>\n",
       "    <tr>\n",
       "      <th>3</th>\n",
       "      <td>559</td>\n",
       "      <td>OFF0023</td>\n",
       "      <td>17</td>\n",
       "    </tr>\n",
       "    <tr>\n",
       "      <th>4</th>\n",
       "      <td>900</td>\n",
       "      <td>OFF0023</td>\n",
       "      <td>15</td>\n",
       "    </tr>\n",
       "  </tbody>\n",
       "</table>\n",
       "</div>"
      ],
      "text/plain": [
       "     ID OFFER_ID  COUNT\n",
       "0  1463  OFF0023     28\n",
       "1  1218  OFF0022     18\n",
       "2  1218  OFF0025     18\n",
       "3   559  OFF0023     17\n",
       "4   900  OFF0023     15"
      ]
     },
     "execution_count": 4,
     "metadata": {},
     "output_type": "execute_result"
    }
   ],
   "source": [
    "offertagging.head()"
   ]
  },
  {
   "cell_type": "code",
   "execution_count": 5,
   "metadata": {},
   "outputs": [
    {
     "data": {
      "text/html": [
       "<div>\n",
       "<style>\n",
       "    .dataframe thead tr:only-child th {\n",
       "        text-align: right;\n",
       "    }\n",
       "\n",
       "    .dataframe thead th {\n",
       "        text-align: left;\n",
       "    }\n",
       "\n",
       "    .dataframe tbody tr th {\n",
       "        vertical-align: top;\n",
       "    }\n",
       "</style>\n",
       "<table border=\"1\" class=\"dataframe\">\n",
       "  <thead>\n",
       "    <tr style=\"text-align: right;\">\n",
       "      <th></th>\n",
       "      <th>OFFER</th>\n",
       "      <th>AvgClick</th>\n",
       "      <th>CampaignName</th>\n",
       "    </tr>\n",
       "  </thead>\n",
       "  <tbody>\n",
       "    <tr>\n",
       "      <th>0</th>\n",
       "      <td>OFF0001</td>\n",
       "      <td>1.26</td>\n",
       "      <td>夜間換匯</td>\n",
       "    </tr>\n",
       "    <tr>\n",
       "      <th>1</th>\n",
       "      <td>OFF0002</td>\n",
       "      <td>1.58</td>\n",
       "      <td>臺幣活存轉外幣定存</td>\n",
       "    </tr>\n",
       "    <tr>\n",
       "      <th>3</th>\n",
       "      <td>OFF0004</td>\n",
       "      <td>1.25</td>\n",
       "      <td>擁有外幣帳戶三大理由</td>\n",
       "    </tr>\n",
       "    <tr>\n",
       "      <th>4</th>\n",
       "      <td>OFF0005</td>\n",
       "      <td>1.36</td>\n",
       "      <td>連假攻略</td>\n",
       "    </tr>\n",
       "    <tr>\n",
       "      <th>5</th>\n",
       "      <td>OFF0006</td>\n",
       "      <td>1.29</td>\n",
       "      <td>戰勝通膨</td>\n",
       "    </tr>\n",
       "  </tbody>\n",
       "</table>\n",
       "</div>"
      ],
      "text/plain": [
       "     OFFER  AvgClick CampaignName\n",
       "0  OFF0001      1.26         夜間換匯\n",
       "1  OFF0002      1.58    臺幣活存轉外幣定存\n",
       "3  OFF0004      1.25   擁有外幣帳戶三大理由\n",
       "4  OFF0005      1.36         連假攻略\n",
       "5  OFF0006      1.29         戰勝通膨"
      ]
     },
     "execution_count": 5,
     "metadata": {},
     "output_type": "execute_result"
    }
   ],
   "source": [
    "offer_avgclick.head()"
   ]
  },
  {
   "cell_type": "code",
   "execution_count": 6,
   "metadata": {
    "collapsed": true
   },
   "outputs": [],
   "source": [
    "offer_std = offertagging.groupby(['OFFER_ID'])['COUNT'].std(ddof=1).reset_index(name='StdClick').fillna(0)"
   ]
  },
  {
   "cell_type": "code",
   "execution_count": 7,
   "metadata": {},
   "outputs": [
    {
     "data": {
      "text/html": [
       "<div>\n",
       "<style>\n",
       "    .dataframe thead tr:only-child th {\n",
       "        text-align: right;\n",
       "    }\n",
       "\n",
       "    .dataframe thead th {\n",
       "        text-align: left;\n",
       "    }\n",
       "\n",
       "    .dataframe tbody tr th {\n",
       "        vertical-align: top;\n",
       "    }\n",
       "</style>\n",
       "<table border=\"1\" class=\"dataframe\">\n",
       "  <thead>\n",
       "    <tr style=\"text-align: right;\">\n",
       "      <th></th>\n",
       "      <th>OFFER_ID</th>\n",
       "      <th>StdClick</th>\n",
       "    </tr>\n",
       "  </thead>\n",
       "  <tbody>\n",
       "    <tr>\n",
       "      <th>0</th>\n",
       "      <td>OFF0001</td>\n",
       "      <td>0.000000</td>\n",
       "    </tr>\n",
       "    <tr>\n",
       "      <th>1</th>\n",
       "      <td>OFF0002</td>\n",
       "      <td>0.421637</td>\n",
       "    </tr>\n",
       "    <tr>\n",
       "      <th>2</th>\n",
       "      <td>OFF0004</td>\n",
       "      <td>0.516398</td>\n",
       "    </tr>\n",
       "    <tr>\n",
       "      <th>3</th>\n",
       "      <td>OFF0005</td>\n",
       "      <td>0.446496</td>\n",
       "    </tr>\n",
       "    <tr>\n",
       "      <th>4</th>\n",
       "      <td>OFF0006</td>\n",
       "      <td>0.000000</td>\n",
       "    </tr>\n",
       "  </tbody>\n",
       "</table>\n",
       "</div>"
      ],
      "text/plain": [
       "  OFFER_ID  StdClick\n",
       "0  OFF0001  0.000000\n",
       "1  OFF0002  0.421637\n",
       "2  OFF0004  0.516398\n",
       "3  OFF0005  0.446496\n",
       "4  OFF0006  0.000000"
      ]
     },
     "execution_count": 7,
     "metadata": {},
     "output_type": "execute_result"
    }
   ],
   "source": [
    "offer_std.head()"
   ]
  },
  {
   "cell_type": "code",
   "execution_count": 8,
   "metadata": {
    "collapsed": true
   },
   "outputs": [],
   "source": [
    "offer_info = offer_std.merge(offer_avgclick, left_on='OFFER_ID', right_on='OFFER',how='inner')[['OFFER_ID','StdClick','AvgClick','CampaignName']]"
   ]
  },
  {
   "cell_type": "code",
   "execution_count": 9,
   "metadata": {
    "collapsed": true
   },
   "outputs": [],
   "source": [
    "offer_info.loc[offer_info['StdClick']==0,['StdClick']]= 0.000001"
   ]
  },
  {
   "cell_type": "code",
   "execution_count": 10,
   "metadata": {},
   "outputs": [
    {
     "data": {
      "text/html": [
       "<div>\n",
       "<style>\n",
       "    .dataframe thead tr:only-child th {\n",
       "        text-align: right;\n",
       "    }\n",
       "\n",
       "    .dataframe thead th {\n",
       "        text-align: left;\n",
       "    }\n",
       "\n",
       "    .dataframe tbody tr th {\n",
       "        vertical-align: top;\n",
       "    }\n",
       "</style>\n",
       "<table border=\"1\" class=\"dataframe\">\n",
       "  <thead>\n",
       "    <tr style=\"text-align: right;\">\n",
       "      <th></th>\n",
       "      <th>OFFER_ID</th>\n",
       "      <th>StdClick</th>\n",
       "      <th>AvgClick</th>\n",
       "      <th>CampaignName</th>\n",
       "    </tr>\n",
       "  </thead>\n",
       "  <tbody>\n",
       "    <tr>\n",
       "      <th>0</th>\n",
       "      <td>OFF0001</td>\n",
       "      <td>0.000001</td>\n",
       "      <td>1.26</td>\n",
       "      <td>夜間換匯</td>\n",
       "    </tr>\n",
       "    <tr>\n",
       "      <th>1</th>\n",
       "      <td>OFF0002</td>\n",
       "      <td>0.421637</td>\n",
       "      <td>1.58</td>\n",
       "      <td>臺幣活存轉外幣定存</td>\n",
       "    </tr>\n",
       "    <tr>\n",
       "      <th>2</th>\n",
       "      <td>OFF0004</td>\n",
       "      <td>0.516398</td>\n",
       "      <td>1.25</td>\n",
       "      <td>擁有外幣帳戶三大理由</td>\n",
       "    </tr>\n",
       "    <tr>\n",
       "      <th>3</th>\n",
       "      <td>OFF0005</td>\n",
       "      <td>0.446496</td>\n",
       "      <td>1.36</td>\n",
       "      <td>連假攻略</td>\n",
       "    </tr>\n",
       "    <tr>\n",
       "      <th>4</th>\n",
       "      <td>OFF0006</td>\n",
       "      <td>0.000001</td>\n",
       "      <td>1.29</td>\n",
       "      <td>戰勝通膨</td>\n",
       "    </tr>\n",
       "  </tbody>\n",
       "</table>\n",
       "</div>"
      ],
      "text/plain": [
       "  OFFER_ID  StdClick  AvgClick CampaignName\n",
       "0  OFF0001  0.000001      1.26         夜間換匯\n",
       "1  OFF0002  0.421637      1.58    臺幣活存轉外幣定存\n",
       "2  OFF0004  0.516398      1.25   擁有外幣帳戶三大理由\n",
       "3  OFF0005  0.446496      1.36         連假攻略\n",
       "4  OFF0006  0.000001      1.29         戰勝通膨"
      ]
     },
     "execution_count": 10,
     "metadata": {},
     "output_type": "execute_result"
    }
   ],
   "source": [
    "offer_info.head()"
   ]
  },
  {
   "cell_type": "code",
   "execution_count": 11,
   "metadata": {
    "collapsed": true
   },
   "outputs": [],
   "source": [
    "offertagging = offertagging.merge(offer_info, on= 'OFFER_ID', how='left')"
   ]
  },
  {
   "cell_type": "code",
   "execution_count": 12,
   "metadata": {},
   "outputs": [
    {
     "data": {
      "text/html": [
       "<div>\n",
       "<style>\n",
       "    .dataframe thead tr:only-child th {\n",
       "        text-align: right;\n",
       "    }\n",
       "\n",
       "    .dataframe thead th {\n",
       "        text-align: left;\n",
       "    }\n",
       "\n",
       "    .dataframe tbody tr th {\n",
       "        vertical-align: top;\n",
       "    }\n",
       "</style>\n",
       "<table border=\"1\" class=\"dataframe\">\n",
       "  <thead>\n",
       "    <tr style=\"text-align: right;\">\n",
       "      <th></th>\n",
       "      <th>ID</th>\n",
       "      <th>OFFER_ID</th>\n",
       "      <th>COUNT</th>\n",
       "      <th>StdClick</th>\n",
       "      <th>AvgClick</th>\n",
       "      <th>CampaignName</th>\n",
       "    </tr>\n",
       "  </thead>\n",
       "  <tbody>\n",
       "    <tr>\n",
       "      <th>0</th>\n",
       "      <td>1463</td>\n",
       "      <td>OFF0023</td>\n",
       "      <td>28</td>\n",
       "      <td>5.091008</td>\n",
       "      <td>4.41</td>\n",
       "      <td>日圓走勢</td>\n",
       "    </tr>\n",
       "    <tr>\n",
       "      <th>1</th>\n",
       "      <td>1218</td>\n",
       "      <td>OFF0022</td>\n",
       "      <td>18</td>\n",
       "      <td>3.271379</td>\n",
       "      <td>3.43</td>\n",
       "      <td>人民幣走勢</td>\n",
       "    </tr>\n",
       "    <tr>\n",
       "      <th>2</th>\n",
       "      <td>1218</td>\n",
       "      <td>OFF0025</td>\n",
       "      <td>18</td>\n",
       "      <td>3.566223</td>\n",
       "      <td>3.41</td>\n",
       "      <td>澳幣走勢</td>\n",
       "    </tr>\n",
       "    <tr>\n",
       "      <th>3</th>\n",
       "      <td>559</td>\n",
       "      <td>OFF0023</td>\n",
       "      <td>17</td>\n",
       "      <td>5.091008</td>\n",
       "      <td>4.41</td>\n",
       "      <td>日圓走勢</td>\n",
       "    </tr>\n",
       "    <tr>\n",
       "      <th>4</th>\n",
       "      <td>900</td>\n",
       "      <td>OFF0023</td>\n",
       "      <td>15</td>\n",
       "      <td>5.091008</td>\n",
       "      <td>4.41</td>\n",
       "      <td>日圓走勢</td>\n",
       "    </tr>\n",
       "  </tbody>\n",
       "</table>\n",
       "</div>"
      ],
      "text/plain": [
       "     ID OFFER_ID  COUNT  StdClick  AvgClick CampaignName\n",
       "0  1463  OFF0023     28  5.091008      4.41         日圓走勢\n",
       "1  1218  OFF0022     18  3.271379      3.43        人民幣走勢\n",
       "2  1218  OFF0025     18  3.566223      3.41         澳幣走勢\n",
       "3   559  OFF0023     17  5.091008      4.41         日圓走勢\n",
       "4   900  OFF0023     15  5.091008      4.41         日圓走勢"
      ]
     },
     "execution_count": 12,
     "metadata": {},
     "output_type": "execute_result"
    }
   ],
   "source": [
    "offertagging.head()"
   ]
  },
  {
   "cell_type": "code",
   "execution_count": 13,
   "metadata": {
    "collapsed": true
   },
   "outputs": [],
   "source": [
    "offertagging['StandarizeClick'] = offertagging.apply(lambda row : (row['COUNT'] - row['AvgClick'])/row['StdClick'], axis=1)"
   ]
  },
  {
   "cell_type": "code",
   "execution_count": 14,
   "metadata": {},
   "outputs": [
    {
     "data": {
      "text/html": [
       "<div>\n",
       "<style>\n",
       "    .dataframe thead tr:only-child th {\n",
       "        text-align: right;\n",
       "    }\n",
       "\n",
       "    .dataframe thead th {\n",
       "        text-align: left;\n",
       "    }\n",
       "\n",
       "    .dataframe tbody tr th {\n",
       "        vertical-align: top;\n",
       "    }\n",
       "</style>\n",
       "<table border=\"1\" class=\"dataframe\">\n",
       "  <thead>\n",
       "    <tr style=\"text-align: right;\">\n",
       "      <th></th>\n",
       "      <th>ID</th>\n",
       "      <th>OFFER_ID</th>\n",
       "      <th>COUNT</th>\n",
       "      <th>StdClick</th>\n",
       "      <th>AvgClick</th>\n",
       "      <th>CampaignName</th>\n",
       "      <th>StandarizeClick</th>\n",
       "    </tr>\n",
       "  </thead>\n",
       "  <tbody>\n",
       "    <tr>\n",
       "      <th>0</th>\n",
       "      <td>1463</td>\n",
       "      <td>OFF0023</td>\n",
       "      <td>28</td>\n",
       "      <td>5.091008</td>\n",
       "      <td>4.41</td>\n",
       "      <td>日圓走勢</td>\n",
       "      <td>4.633660</td>\n",
       "    </tr>\n",
       "    <tr>\n",
       "      <th>1</th>\n",
       "      <td>1218</td>\n",
       "      <td>OFF0022</td>\n",
       "      <td>18</td>\n",
       "      <td>3.271379</td>\n",
       "      <td>3.43</td>\n",
       "      <td>人民幣走勢</td>\n",
       "      <td>4.453779</td>\n",
       "    </tr>\n",
       "    <tr>\n",
       "      <th>2</th>\n",
       "      <td>1218</td>\n",
       "      <td>OFF0025</td>\n",
       "      <td>18</td>\n",
       "      <td>3.566223</td>\n",
       "      <td>3.41</td>\n",
       "      <td>澳幣走勢</td>\n",
       "      <td>4.091163</td>\n",
       "    </tr>\n",
       "    <tr>\n",
       "      <th>3</th>\n",
       "      <td>559</td>\n",
       "      <td>OFF0023</td>\n",
       "      <td>17</td>\n",
       "      <td>5.091008</td>\n",
       "      <td>4.41</td>\n",
       "      <td>日圓走勢</td>\n",
       "      <td>2.472987</td>\n",
       "    </tr>\n",
       "    <tr>\n",
       "      <th>4</th>\n",
       "      <td>900</td>\n",
       "      <td>OFF0023</td>\n",
       "      <td>15</td>\n",
       "      <td>5.091008</td>\n",
       "      <td>4.41</td>\n",
       "      <td>日圓走勢</td>\n",
       "      <td>2.080138</td>\n",
       "    </tr>\n",
       "  </tbody>\n",
       "</table>\n",
       "</div>"
      ],
      "text/plain": [
       "     ID OFFER_ID  COUNT  StdClick  AvgClick CampaignName  StandarizeClick\n",
       "0  1463  OFF0023     28  5.091008      4.41         日圓走勢         4.633660\n",
       "1  1218  OFF0022     18  3.271379      3.43        人民幣走勢         4.453779\n",
       "2  1218  OFF0025     18  3.566223      3.41         澳幣走勢         4.091163\n",
       "3   559  OFF0023     17  5.091008      4.41         日圓走勢         2.472987\n",
       "4   900  OFF0023     15  5.091008      4.41         日圓走勢         2.080138"
      ]
     },
     "execution_count": 14,
     "metadata": {},
     "output_type": "execute_result"
    }
   ],
   "source": [
    "offertagging.head()"
   ]
  },
  {
   "cell_type": "code",
   "execution_count": 15,
   "metadata": {
    "collapsed": true
   },
   "outputs": [],
   "source": [
    "offertagging = offertagging.pivot_table(index=['ID'], columns='OFFER_ID', values='COUNT').fillna(0)"
   ]
  },
  {
   "cell_type": "code",
   "execution_count": 16,
   "metadata": {
    "collapsed": true
   },
   "outputs": [],
   "source": [
    "Train = offertagging[~offertagging.index.isin(offertagging.index[:10])]\n",
    "Test = offertagging[offertagging.index.isin(offertagging.index[:10])]"
   ]
  },
  {
   "cell_type": "code",
   "execution_count": 17,
   "metadata": {},
   "outputs": [
    {
     "data": {
      "text/plain": [
       "Int64Index([9, 10, 38, 48, 57, 71, 72, 78, 86, 90], dtype='int64', name=u'ID')"
      ]
     },
     "execution_count": 17,
     "metadata": {},
     "output_type": "execute_result"
    }
   ],
   "source": [
    "Test.index"
   ]
  },
  {
   "cell_type": "code",
   "execution_count": 18,
   "metadata": {},
   "outputs": [
    {
     "data": {
      "text/plain": [
       "array([[ 0.,  0.,  0.,  0.,  0.,  0.,  0.,  0.,  0.,  0.,  0.,  0.,  0.,\n",
       "         0.,  0.,  0.,  0.,  0.,  0.,  0.,  0.,  2.,  0.,  0.,  0.,  0.,\n",
       "         0.,  0.,  0.,  0.,  0.,  0.,  0.,  0.,  0.,  0.,  0.,  0.,  0.],\n",
       "       [ 0.,  0.,  2.,  0.,  0.,  0.,  0.,  0.,  0.,  0.,  0.,  0.,  0.,\n",
       "         0.,  0.,  0.,  0.,  0.,  0.,  0.,  0.,  0.,  0.,  0.,  0.,  0.,\n",
       "         0.,  0.,  0.,  0.,  0.,  0.,  0.,  0.,  0.,  0.,  0.,  0.,  0.],\n",
       "       [ 0.,  0.,  0.,  0.,  0.,  0.,  0.,  0.,  0.,  1.,  0.,  0.,  0.,\n",
       "         0.,  0.,  1.,  1.,  0.,  0.,  0.,  0.,  0.,  0.,  0.,  0.,  0.,\n",
       "         0.,  0.,  0.,  0.,  0.,  0.,  0.,  0.,  0.,  0.,  0.,  0.,  0.],\n",
       "       [ 0.,  0.,  0.,  0.,  0.,  1.,  0.,  0.,  0.,  0.,  0.,  0.,  0.,\n",
       "         0.,  0.,  0.,  0.,  0.,  0.,  0.,  0.,  0.,  0.,  0.,  0.,  0.,\n",
       "         0.,  0.,  0.,  0.,  0.,  0.,  0.,  0.,  0.,  0.,  0.,  0.,  0.],\n",
       "       [ 0.,  0.,  0.,  0.,  0.,  1.,  0.,  0.,  0.,  0.,  0.,  0.,  0.,\n",
       "         0.,  0.,  0.,  0.,  0.,  0.,  0.,  0.,  9.,  0.,  0.,  0.,  0.,\n",
       "         0.,  0.,  0.,  0.,  0.,  0.,  0.,  0.,  0.,  0.,  0.,  0.,  0.],\n",
       "       [ 0.,  0.,  0.,  0.,  0.,  0.,  0.,  0.,  0.,  0.,  0.,  0.,  0.,\n",
       "         0.,  0.,  0.,  0.,  0.,  0.,  1.,  0.,  0.,  0.,  0.,  0.,  0.,\n",
       "         0.,  0.,  0.,  0.,  0.,  0.,  0.,  0.,  0.,  0.,  0.,  0.,  0.],\n",
       "       [ 0.,  0.,  0.,  0.,  0.,  2.,  0.,  0.,  0.,  0.,  0.,  0.,  0.,\n",
       "         0.,  0.,  0.,  0.,  0.,  0.,  0.,  0.,  0.,  0.,  0.,  0.,  0.,\n",
       "         0.,  0.,  0.,  0.,  0.,  0.,  0.,  0.,  0.,  0.,  0.,  0.,  0.],\n",
       "       [ 0.,  0.,  0.,  0.,  0.,  1.,  0.,  0.,  0.,  0.,  0.,  0.,  0.,\n",
       "         0.,  0.,  0.,  0.,  0.,  0.,  0.,  0.,  0.,  0.,  1.,  0.,  0.,\n",
       "         0.,  0.,  0.,  0.,  0.,  0.,  0.,  0.,  0.,  0.,  0.,  0.,  0.],\n",
       "       [ 0.,  0.,  0.,  0.,  0.,  0.,  0.,  0.,  0.,  0.,  0.,  0.,  0.,\n",
       "         0.,  0.,  2.,  0.,  0.,  0.,  0.,  0.,  0.,  0.,  0.,  0.,  0.,\n",
       "         0.,  0.,  0.,  0.,  0.,  0.,  0.,  0.,  0.,  0.,  0.,  0.,  0.],\n",
       "       [ 0.,  0.,  0.,  0.,  0.,  0.,  0.,  0.,  0.,  0.,  0.,  0.,  0.,\n",
       "         0.,  0.,  0.,  0.,  0.,  0.,  0.,  0.,  0.,  0.,  0.,  0.,  0.,\n",
       "         0.,  0.,  0.,  0.,  0.,  0.,  0.,  0.,  0.,  0.,  2.,  0.,  0.]])"
      ]
     },
     "execution_count": 18,
     "metadata": {},
     "output_type": "execute_result"
    }
   ],
   "source": [
    "Test.values"
   ]
  },
  {
   "cell_type": "code",
   "execution_count": 19,
   "metadata": {
    "collapsed": true
   },
   "outputs": [],
   "source": [
    "def sort_output(data):\n",
    "    sort_data = sorted(range(len(data)), key=lambda x: data[x], reverse=True)\n",
    "    return sort_data"
   ]
  },
  {
   "cell_type": "code",
   "execution_count": 20,
   "metadata": {
    "collapsed": true
   },
   "outputs": [],
   "source": [
    "Preference_Dist = Test.values"
   ]
  },
  {
   "cell_type": "code",
   "execution_count": 22,
   "metadata": {},
   "outputs": [],
   "source": [
    "with open('RealDist.pickle', 'wb') as f:\n",
    "    pickle.dump(Preference_Dist, f, pickle.HIGHEST_PROTOCOL)"
   ]
  },
  {
   "cell_type": "code",
   "execution_count": null,
   "metadata": {
    "collapsed": true
   },
   "outputs": [],
   "source": [
    "for i in range(Preference_Dist.shape[0]):\n",
    "    for j in range(Preference_Dist[i].shape[0]):\n",
    "        if Preference_Dist[i][j] >= 2:\n",
    "            Preference_Dist[i][j] = 0.995\n",
    "        elif Preference_Dist[i][j] >= 1:\n",
    "            Preference_Dist[i][j] = 0.975\n",
    "        elif Preference_Dist[i][j] >= 0:\n",
    "            Preference_Dist[i][j] = 0.8\n",
    "        elif Preference_Dist[i][j] >= -1:\n",
    "            Preference_Dist[i][j] = 0.2\n",
    "        elif Preference_Dist[i][j] >= -2:\n",
    "            Preference_Dist[i][j] = 0.025\n",
    "        else:\n",
    "            Preference_Dist[i][j] = 0.005"
   ]
  },
  {
   "cell_type": "code",
   "execution_count": null,
   "metadata": {
    "collapsed": true
   },
   "outputs": [],
   "source": [
    "Preference_Dist"
   ]
  },
  {
   "cell_type": "code",
   "execution_count": null,
   "metadata": {
    "collapsed": true
   },
   "outputs": [],
   "source": [
    "with open('Preference.pickle', 'wb') as f:\n",
    "    pickle.dump(Preference_Dist, f, pickle.HIGHEST_PROTOCOL)"
   ]
  },
  {
   "cell_type": "code",
   "execution_count": 22,
   "metadata": {
    "collapsed": true
   },
   "outputs": [],
   "source": [
    "file_path = inspect.getfile(inspect.currentframe())\n",
    "file_direction = os.path.dirname(os.path.abspath(file_path))\n",
    "offertagging = os.path.join(file_direction, 'Train_Data.csv')\n",
    "offertagging = pd.read_csv(offertagging)"
   ]
  },
  {
   "cell_type": "code",
   "execution_count": 23,
   "metadata": {
    "collapsed": true
   },
   "outputs": [],
   "source": [
    "offertagging = offertagging[~offertagging.ID.isin([9, 10, 38, 48, 57, 71, 72, 78, 86, 90])]"
   ]
  },
  {
   "cell_type": "code",
   "execution_count": null,
   "metadata": {
    "collapsed": true
   },
   "outputs": [],
   "source": [
    "offertagging.to_csv('Train_Data.csv',index=False)"
   ]
  },
  {
   "cell_type": "code",
   "execution_count": null,
   "metadata": {
    "collapsed": true
   },
   "outputs": [],
   "source": [
    "with open('offer_maptb.pickle', 'rb') as f5:\n",
    "    offer_maptb = pickle.load(f5)"
   ]
  },
  {
   "cell_type": "code",
   "execution_count": null,
   "metadata": {
    "collapsed": true
   },
   "outputs": [],
   "source": [
    "IndexMapOffer = {}\n",
    "for i in range(len(offer_maptb)):\n",
    "    IndexMapOffer[offer_maptb[i]] = i"
   ]
  },
  {
   "cell_type": "code",
   "execution_count": null,
   "metadata": {
    "collapsed": true
   },
   "outputs": [],
   "source": [
    "with open('IndexMapOffer.pickle', 'wb') as f1:\n",
    "    pickle.dump(IndexMapOffer, f1, pickle.HIGHEST_PROTOCOL)"
   ]
  },
  {
   "cell_type": "code",
   "execution_count": null,
   "metadata": {
    "collapsed": true
   },
   "outputs": [],
   "source": []
  }
 ],
 "metadata": {
  "kernelspec": {
   "display_name": "Python 2",
   "language": "python",
   "name": "python2"
  },
  "language_info": {
   "codemirror_mode": {
    "name": "ipython",
    "version": 2
   },
   "file_extension": ".py",
   "mimetype": "text/x-python",
   "name": "python",
   "nbconvert_exporter": "python",
   "pygments_lexer": "ipython2",
   "version": "2.7.13"
  }
 },
 "nbformat": 4,
 "nbformat_minor": 2
}
