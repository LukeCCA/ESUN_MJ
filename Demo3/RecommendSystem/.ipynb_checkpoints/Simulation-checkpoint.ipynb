{
 "cells": [
  {
   "cell_type": "code",
   "execution_count": null,
   "metadata": {
    "collapsed": true
   },
   "outputs": [],
   "source": [
    "import Collobrative_Filtering as CF\n",
    "import numpy as np\n",
    "import pandas as pd\n",
    "import redis\n",
    "import json\n",
    "import random\n",
    "import pickle\n",
    "import inspect\n",
    "import os"
   ]
  },
  {
   "cell_type": "code",
   "execution_count": null,
   "metadata": {
    "collapsed": true
   },
   "outputs": [],
   "source": [
    "redis_conn = redis.Redis(host='localhost',port=6379,db=0)"
   ]
  },
  {
   "cell_type": "markdown",
   "metadata": {
    "collapsed": true
   },
   "source": [
    "## 測試目的：使用演算法的話是否成效會比Random更好"
   ]
  },
  {
   "cell_type": "code",
   "execution_count": null,
   "metadata": {
    "collapsed": true
   },
   "outputs": [],
   "source": [
    "model = CF.COLLOBORATIVE_FILTERING()"
   ]
  },
  {
   "cell_type": "code",
   "execution_count": null,
   "metadata": {
    "collapsed": true
   },
   "outputs": [],
   "source": [
    "with open('tag_mapping.pickle', 'rb') as f3:\n",
    "    tag_mapping = pickle.load(f3)"
   ]
  },
  {
   "cell_type": "code",
   "execution_count": null,
   "metadata": {
    "collapsed": true
   },
   "outputs": [],
   "source": [
    "def preference_fake(data):\n",
    "    number = len(data)\n",
    "    random_lst = []\n",
    "    for i in range(number):\n",
    "        if random.randint(0,1)==1:\n",
    "            random_lst.append(i)\n",
    "    return random_lst"
   ]
  },
  {
   "cell_type": "code",
   "execution_count": null,
   "metadata": {
    "collapsed": true
   },
   "outputs": [],
   "source": [
    "def preference(number):\n",
    "    ran_num = random.randint(1,number)\n",
    "    data = json.loads(redis_conn.get(ran_num))\n",
    "    model_tags = tag_mapping.keys()\n",
    "    user_tags = []\n",
    "    for i in data['batchTag']:\n",
    "        if i[u'TAG_ID'] in model_tags:\n",
    "            user_tags.append(tag_mapping[i[u'TAG_ID']])\n",
    "    return user_tags"
   ]
  },
  {
   "cell_type": "markdown",
   "metadata": {},
   "source": [
    "## Model Test"
   ]
  },
  {
   "cell_type": "code",
   "execution_count": null,
   "metadata": {
    "collapsed": true
   },
   "outputs": [],
   "source": [
    "for j in range(1,1501):\n",
    "    data = json.loads(redis_conn.get(j))\n",
    "    model_tags = tag_mapping.keys()\n",
    "    user_tags = []\n",
    "    for i in data['batchTag']:\n",
    "        if i[u'TAG_ID'] in model_tags:\n",
    "            user_tags.append(tag_mapping[i[u'TAG_ID']])\n",
    "    test = model.predict(user_tags,False,similar_num=5,offertag_num=15,offer_number=3)\n",
    "    print test"
   ]
  },
  {
   "cell_type": "code",
   "execution_count": null,
   "metadata": {},
   "outputs": [],
   "source": [
    "data = json.loads(redis_conn.get(1))\n",
    "model_tags = tag_mapping.keys()\n",
    "user_tags = []\n",
    "for i in data['batchTag']:\n",
    "    if i[u'TAG_ID'] in model_tags:\n",
    "        user_tags.append(tag_mapping[i[u'TAG_ID']])\n",
    "test = model.predict(user_tags,False,similar_num=5,offertag_num=10,offer_number=6)\n",
    "test"
   ]
  },
  {
   "cell_type": "code",
   "execution_count": null,
   "metadata": {
    "collapsed": true
   },
   "outputs": [],
   "source": [
    "customer_tag = preference_fake(tag_mapping)\n",
    "customer_reco = model.predict(customer_tag,False,similar_num=10,offertag_num=15,offer_number=3)\n",
    "customer_reco"
   ]
  },
  {
   "cell_type": "markdown",
   "metadata": {},
   "source": [
    "# 情境一：視每個顧客為新顧客（描述顧客標籤隨機給予）"
   ]
  },
  {
   "cell_type": "markdown",
   "metadata": {},
   "source": [
    "### 顧客初始不喜歡推薦，且推薦各自獨立，Swich推薦的比例"
   ]
  },
  {
   "cell_type": "code",
   "execution_count": null,
   "metadata": {
    "collapsed": true
   },
   "outputs": [],
   "source": [
    "with open('offerlabel_mapping.pickle', 'rb') as f2:\n",
    "    offerlabel_mapping = pickle.load(f2)\n",
    "offer_tags = pd.read_csv('OFFERTAG_MAPPING.csv')"
   ]
  },
  {
   "cell_type": "code",
   "execution_count": null,
   "metadata": {
    "collapsed": true
   },
   "outputs": [],
   "source": [
    "def input_data_case1(number, tag_mapping):\n",
    "    customer = np.zeros(number).tolist()\n",
    "    for i in range(number):\n",
    "        cust_tag = preference(1500)\n",
    "        #tag = np.zeros(len(tag_mapping))\n",
    "        #tag[[cust_tag]] = 1\n",
    "        customer[i] = cust_tag\n",
    "    return customer"
   ]
  },
  {
   "cell_type": "code",
   "execution_count": null,
   "metadata": {
    "collapsed": true
   },
   "outputs": [],
   "source": [
    "def simulation_case1(cust_tag, times, offer_tags, offerlabel_mapping, tag_mapping):\n",
    "    response = np.zeros([len(cust_tag), times, 2]).tolist()\n",
    "    for i in range(times):\n",
    "        for j in range(len(cust_tag)):\n",
    "            customer_reco = model.predict(cust_tag[j], False, similar_num=10, offertag_num=15, offer_number=3)\n",
    "            label = offer_tags[offer_tags.OFFER_ID.isin(customer_reco)].LABEL_ID.unique()\n",
    "\n",
    "            # 令3個被推薦的點擊機率均為0.1，且互相獨立\n",
    "            if random.random()>=(0.9)**3:\n",
    "                reco = customer_reco[random.randint(0,2)]\n",
    "                label = offer_tags[offer_tags.OFFER_ID.isin([reco])].LABEL_ID.unique()\n",
    "                offerlabel_map = {}\n",
    "                offerlabel = np.zeros(len(offerlabel_mapping))\n",
    "                for r in offerlabel_mapping.keys():\n",
    "                    offerlabel_map[offerlabel_mapping[r]]=r\n",
    "                for k in label:\n",
    "                    offerlabel[offerlabel_map[k]] = 1\n",
    "                rating_table = model.fit(cust_tag[j],offerlabel,True)\n",
    "                response[j][i][0] = ','.join(customer_reco)\n",
    "                response[j][i][1] = reco\n",
    "                print 'Finish ' + str(j+1) + ' customer ' + str(i+1) + ' times!!' \n",
    "\n",
    "            else:\n",
    "\n",
    "                response[j][i][0] = ','.join(customer_reco)\n",
    "                print 'Finish ' + str(j+1) + ' customer ' + str(i+1) + ' times!!'  \n",
    "    return response"
   ]
  },
  {
   "cell_type": "code",
   "execution_count": null,
   "metadata": {
    "collapsed": true
   },
   "outputs": [],
   "source": [
    "sim_data = input_data(100, tag_mapping)"
   ]
  },
  {
   "cell_type": "code",
   "execution_count": null,
   "metadata": {
    "collapsed": true
   },
   "outputs": [],
   "source": [
    "result = simulation_case1(sim_data,10,offer_tags,offerlabel_mapping,tag_mapping)"
   ]
  },
  {
   "cell_type": "markdown",
   "metadata": {},
   "source": [
    "# 情境二：視每個顧客為新顧客（描述顧客標籤固定）"
   ]
  },
  {
   "cell_type": "markdown",
   "metadata": {},
   "source": [
    "### 顧客初始有喜好分配，推薦內容各自獨立，其在模型運算後最後跑到他所喜好的產品機率"
   ]
  },
  {
   "cell_type": "markdown",
   "metadata": {
    "collapsed": true
   },
   "source": [
    "顧客 ID : 9, 10, 38, 48, 57, 71, 72, 78, 86, 90"
   ]
  },
  {
   "cell_type": "code",
   "execution_count": null,
   "metadata": {
    "collapsed": true
   },
   "outputs": [],
   "source": [
    "# Load Customer's Truely Preference\n",
    "with open('Preference.pickle', 'rb') as f:\n",
    "    Preference_Dist = pickle.load(f)\n",
    "with open('IndexMapOffer.pickle', 'rb') as f1:\n",
    "    IndexMapOffer = pickle.load(f1)\n",
    "with open('offerlabel_mapping.pickle', 'rb') as f2:\n",
    "    offerlabel_mapping = pickle.load(f2)\n",
    "offer_tags = pd.read_csv('OFFERTAG_MAPPING.csv')\n",
    "with open('RealDist.pickle', 'rb') as f3:\n",
    "    ClickDist = pickle.load(f3)\n",
    "with open('offer_maptb.pickle', 'rb') as f4:\n",
    "    Offer_Maptb = pickle.load(f4)"
   ]
  },
  {
   "cell_type": "code",
   "execution_count": null,
   "metadata": {
    "collapsed": true
   },
   "outputs": [],
   "source": [
    "# 將顧客資訊萃取出來\n",
    "cust_id = [9, 10, 38, 48, 57, 71, 72, 78, 86, 90]\n",
    "test_data = []\n",
    "for j in cust_id:\n",
    "    data = json.loads(redis_conn.get(j))\n",
    "    model_tags = tag_mapping.keys()\n",
    "    user_tags = []\n",
    "    for i in data['batchTag']:\n",
    "        if i[u'TAG_ID'] in model_tags:\n",
    "            user_tags.append(tag_mapping[i[u'TAG_ID']])\n",
    "    test_data.append(user_tags)"
   ]
  },
  {
   "cell_type": "code",
   "execution_count": null,
   "metadata": {
    "collapsed": true
   },
   "outputs": [],
   "source": [
    "# 現實生活上的點擊率\n",
    "answer = np.zeros(len(Preference_Dist)).tolist()\n",
    "for data in range(len(Preference_Dist)):\n",
    "    answer[data] = 1 - ((1 - sorted(Preference_Dist[data],reverse=True)[0])*\n",
    "                    (1 - sorted(Preference_Dist[data],reverse=True)[1])*\n",
    "                    (1 - sorted(Preference_Dist[data],reverse=True)[2]))"
   ]
  },
  {
   "cell_type": "code",
   "execution_count": null,
   "metadata": {
    "collapsed": true
   },
   "outputs": [],
   "source": [
    "def simulation_case2(cust_tag, times, offer_tags, offerlabel_mapping, tag_mapping, Preference_Dist, IndexMapOffer, answer):\n",
    "    response = np.zeros([len(cust_tag), times, 4]).tolist()\n",
    "    recommand_items = np.ones(len(cust_tag))\n",
    "    reco_distribution = np.zeros([len(cust_tag),len(IndexMapOffer)])\n",
    "    for i in range(times):\n",
    "        for j in range(len(cust_tag)):\n",
    "            if recommand_items[j] > 13:\n",
    "                recommand_items[j] = 1\n",
    "            customer_reco = model.predict(cust_tag[j], False, similar_num=10, offertag_num=15, offer_number= int(3*recommand_items[j]))[-3:]\n",
    "            Preference_lst = []\n",
    "            NonClick_Rate_tot = 1\n",
    "            recommand_items[j] += 1 \n",
    "            for data in customer_reco:\n",
    "                Preference_lst.append(Preference_Dist[j][IndexMapOffer[data]])\n",
    "                NonClick_Rate_tot *= 1 - Preference_Dist[j][IndexMapOffer[data]]\n",
    "                reco_distribution[j][IndexMapOffer[data]] += 1\n",
    "            Preference_lst = np.array(Preference_lst)/np.array(Preference_lst).sum()    \n",
    "            Click_Rate_tot = 1- NonClick_Rate_tot\n",
    "            print Click_Rate_tot\n",
    "                            \n",
    "            # 使用Preference的資訊\n",
    "            if random.random()>=NonClick_Rate_tot:\n",
    "                #Choose item\n",
    "                choose = random.random()\n",
    "                for item_num in range(len(Preference_lst)):\n",
    "                    if  Preference_lst[:item_num].sum()<=choose<=Preference_lst[:item_num+1].sum():\n",
    "                        reco = customer_reco[item_num]\n",
    "                        reco_labels = offer_tags[offer_tags.OFFER_ID.isin([reco])].LABEL_ID.unique()\n",
    "                        offerlabel_map = {}\n",
    "                        offerlabel = np.zeros(len(offerlabel_mapping))\n",
    "\n",
    "                        for key in offerlabel_mapping.keys():\n",
    "                            offerlabel_map[offerlabel_mapping[key]]=key\n",
    "                        for label in reco_labels:\n",
    "                            offerlabel[offerlabel_map[label]] = 1\n",
    "                        rating_table = model.fit(cust_tag[j],offerlabel,True)                    \n",
    "                        response[j][i][1] = reco\n",
    "                        recommand_items[j] = 1\n",
    "                        print 'The ' + str(j+1) + ' customer clicked ' + str(item_num+1) + ' recommand item!!'\n",
    "                        break\n",
    "                                                                 \n",
    "            response[j][i][0] = ','.join(customer_reco)\n",
    "            response[j][i][2] = Click_Rate_tot\n",
    "            response[j][i][3] = (Click_Rate_tot - answer[j])**2\n",
    "            print 'Finish ' + str(j+1) + ' customer ' + str(i+1) + ' times!!'  \n",
    "                    \n",
    "    return (response , reco_distribution)"
   ]
  },
  {
   "cell_type": "code",
   "execution_count": null,
   "metadata": {},
   "outputs": [],
   "source": [
    "result = simulation_case2(test_data,20,offer_tags,offerlabel_mapping,tag_mapping,Preference_Dist, IndexMapOffer,answer)"
   ]
  },
  {
   "cell_type": "markdown",
   "metadata": {},
   "source": [
    "# 結果一：與假設的Preference最喜歡的推薦組合距離"
   ]
  },
  {
   "cell_type": "code",
   "execution_count": null,
   "metadata": {},
   "outputs": [],
   "source": [
    "final = []\n",
    "for i in range(len(result[0])):\n",
    "    final.append(result[0][i][-1])\n",
    "final"
   ]
  },
  {
   "cell_type": "markdown",
   "metadata": {},
   "source": [
    "# 結果二：與實際上的實際該名顧客點擊分布圖做比較（藍色：預測，紅色：實際）"
   ]
  },
  {
   "cell_type": "code",
   "execution_count": null,
   "metadata": {},
   "outputs": [],
   "source": [
    "import matplotlib.pyplot as plt"
   ]
  },
  {
   "cell_type": "code",
   "execution_count": null,
   "metadata": {},
   "outputs": [],
   "source": [
    "# 推薦商品分佈\n",
    "recommand_distribution = np.zeros(result[1].shape)\n",
    "for i in range(len(result[1])):\n",
    "    recommand_distribution[i] = result[1][i]/result[1][i].sum()\n",
    "# 實際點擊分布\n",
    "real_distribution = np.zeros(ClickDist.shape)\n",
    "for j in range(len(ClickDist)):\n",
    "    real_distribution[j] = ClickDist[j]/ClickDist[j].sum()"
   ]
  },
  {
   "cell_type": "code",
   "execution_count": null,
   "metadata": {},
   "outputs": [],
   "source": [
    "# Customer 1\n",
    "plt.plot(range(len(recommand_distribution[0])), recommand_distribution[0], color = \"blue\", linewidth = 3, linestyle = \"-\")\n",
    "plt.show()\n",
    "\n",
    "plt.plot(range(len(real_distribution[0])), real_distribution[0], color = \"red\", linewidth = 3, linestyle = \"-\")\n",
    "plt.show()"
   ]
  },
  {
   "cell_type": "code",
   "execution_count": null,
   "metadata": {},
   "outputs": [],
   "source": [
    "# Customer 2\n",
    "plt.plot(range(len(recommand_distribution[1])), recommand_distribution[1], color = \"blue\", linewidth = 3, linestyle = \"-\")\n",
    "plt.show()\n",
    "\n",
    "plt.plot(range(len(real_distribution[1])), real_distribution[1], color = \"red\", linewidth = 3, linestyle = \"-\")\n",
    "plt.show()"
   ]
  },
  {
   "cell_type": "code",
   "execution_count": null,
   "metadata": {},
   "outputs": [],
   "source": [
    "# Customer 3\n",
    "plt.plot(range(len(recommand_distribution[2])), recommand_distribution[2], color = \"blue\", linewidth = 3, linestyle = \"-\")\n",
    "plt.show()\n",
    "\n",
    "plt.plot(range(len(real_distribution[2])), real_distribution[2], color = \"red\", linewidth = 3, linestyle = \"-\")\n",
    "plt.show()"
   ]
  },
  {
   "cell_type": "code",
   "execution_count": null,
   "metadata": {},
   "outputs": [],
   "source": [
    "# Customer 4\n",
    "plt.plot(range(len(recommand_distribution[3])), recommand_distribution[3], color = \"blue\", linewidth = 3, linestyle = \"-\")\n",
    "plt.show()\n",
    "\n",
    "plt.plot(range(len(real_distribution[3])), real_distribution[3], color = \"red\", linewidth = 3, linestyle = \"-\")\n",
    "plt.show()"
   ]
  },
  {
   "cell_type": "code",
   "execution_count": null,
   "metadata": {},
   "outputs": [],
   "source": [
    "# Customer 5\n",
    "plt.plot(range(len(recommand_distribution[4])), recommand_distribution[4], color = \"blue\", linewidth = 3, linestyle = \"-\")\n",
    "plt.show()\n",
    "\n",
    "plt.plot(range(len(real_distribution[4])), real_distribution[4], color = \"red\", linewidth = 3, linestyle = \"-\")\n",
    "plt.show()"
   ]
  },
  {
   "cell_type": "code",
   "execution_count": null,
   "metadata": {},
   "outputs": [],
   "source": [
    "# Customer 6\n",
    "plt.plot(range(len(recommand_distribution[5])), recommand_distribution[5], color = \"blue\", linewidth = 3, linestyle = \"-\")\n",
    "plt.show()\n",
    "\n",
    "plt.plot(range(len(real_distribution[5])), real_distribution[5], color = \"red\", linewidth = 3, linestyle = \"-\")\n",
    "plt.show()"
   ]
  },
  {
   "cell_type": "code",
   "execution_count": null,
   "metadata": {},
   "outputs": [],
   "source": [
    "# Customer 7\n",
    "plt.plot(range(len(recommand_distribution[6])), recommand_distribution[6], color = \"blue\", linewidth = 3, linestyle = \"-\")\n",
    "plt.show()\n",
    "\n",
    "plt.plot(range(len(real_distribution[6])), real_distribution[6], color = \"red\", linewidth = 3, linestyle = \"-\")\n",
    "plt.show()"
   ]
  },
  {
   "cell_type": "code",
   "execution_count": null,
   "metadata": {},
   "outputs": [],
   "source": [
    "# Customer 8\n",
    "plt.plot(range(len(recommand_distribution[7])), recommand_distribution[7], color = \"blue\", linewidth = 3, linestyle = \"-\")\n",
    "plt.show()\n",
    "\n",
    "plt.plot(range(len(real_distribution[7])), real_distribution[7], color = \"red\", linewidth = 3, linestyle = \"-\")\n",
    "plt.show()"
   ]
  },
  {
   "cell_type": "code",
   "execution_count": null,
   "metadata": {},
   "outputs": [],
   "source": [
    "# Customer 9\n",
    "plt.plot(range(len(recommand_distribution[8])), recommand_distribution[8], color = \"blue\", linewidth = 3, linestyle = \"-\")\n",
    "plt.show()\n",
    "\n",
    "plt.plot(range(len(real_distribution[8])), real_distribution[8], color = \"red\", linewidth = 3, linestyle = \"-\")\n",
    "plt.show()"
   ]
  },
  {
   "cell_type": "code",
   "execution_count": null,
   "metadata": {},
   "outputs": [],
   "source": [
    "# Customer 10\n",
    "plt.plot(range(len(recommand_distribution[9])), recommand_distribution[9], color = \"blue\", linewidth = 3, linestyle = \"-\")\n",
    "plt.show()\n",
    "\n",
    "plt.plot(range(len(real_distribution[9])), real_distribution[9], color = \"red\", linewidth = 3, linestyle = \"-\")\n",
    "plt.show()"
   ]
  },
  {
   "cell_type": "markdown",
   "metadata": {},
   "source": [
    "# 情境三：與隨機結果進行比較"
   ]
  },
  {
   "cell_type": "code",
   "execution_count": null,
   "metadata": {},
   "outputs": [],
   "source": [
    "random_recommandation = np.random.randint(38,size=3)"
   ]
  },
  {
   "cell_type": "code",
   "execution_count": null,
   "metadata": {},
   "outputs": [],
   "source": [
    "random_recommandation"
   ]
  },
  {
   "cell_type": "code",
   "execution_count": null,
   "metadata": {
    "collapsed": true
   },
   "outputs": [],
   "source": [
    "def simulation_case3(cust_tag, times, offer_tags, offerlabel_mapping, tag_mapping, Preference_Dist, IndexMapOffer, answer):\n",
    "    response = np.zeros([len(cust_tag), times, 4]).tolist()\n",
    "    recommand_items = np.ones(len(cust_tag))\n",
    "    for i in range(times):\n",
    "        for j in range(len(cust_tag)):\n",
    "            if recommand_items[j] > 13:\n",
    "                recommand_items[j] = 1\n",
    "            random_recommandation = np.random.randint(38,size=3)\n",
    "            customer_reco = model.predict(cust_tag[j], False, similar_num=10, offertag_num=15, offer_number= int(3*recommand_items[j]))[-3:]\n",
    "            Preference_lst = []\n",
    "            Preference_lst_ran = []\n",
    "            NonClick_Rate_tot = 1\n",
    "            NonClick_Rate_tot_ran = 1\n",
    "            recommand_items[j] += 1 \n",
    "            \n",
    "            for data in customer_reco:\n",
    "                Preference_lst.append(Preference_Dist[j][IndexMapOffer[data]])\n",
    "                NonClick_Rate_tot *= 1 - Preference_Dist[j][IndexMapOffer[data]]\n",
    "                \n",
    "            for random_reco_ind in random_recommandation:\n",
    "                Preference_lst_ran.append(Preference_Dist[j][random_reco_ind])\n",
    "                NonClick_Rate_tot_ran *= 1 - Preference_Dist[j][random_reco_ind]\n",
    "                \n",
    "            Preference_lst = np.array(Preference_lst)/np.array(Preference_lst).sum()\n",
    "            Preference_lst_ran = np.array(Preference_lst_ran)/np.array(Preference_lst_ran).sum()\n",
    "                            \n",
    "            # Model Recommandation使用Preference的資訊\n",
    "            if random.random()>=NonClick_Rate_tot:\n",
    "                #Choose item\n",
    "                choose = random.random()\n",
    "                for item_num in range(len(Preference_lst)):\n",
    "                    if  Preference_lst[:item_num].sum()<=choose<=Preference_lst[:item_num+1].sum():\n",
    "                        reco = customer_reco[item_num]\n",
    "                        reco_labels = offer_tags[offer_tags.OFFER_ID.isin([reco])].LABEL_ID.unique()\n",
    "                        offerlabel_map = {}\n",
    "                        offerlabel = np.zeros(len(offerlabel_mapping))\n",
    "\n",
    "                        for key in offerlabel_mapping.keys():\n",
    "                            offerlabel_map[offerlabel_mapping[key]]=key\n",
    "                        for label in reco_labels:\n",
    "                            offerlabel[offerlabel_map[label]] = 1\n",
    "                        rating_table = model.fit(cust_tag[j],offerlabel,True)\n",
    "                        response[j][i][0] = reco\n",
    "                        response[j][i][1] += (response[j][i-1][1] + 1)\n",
    "                        recommand_items[j] = 1\n",
    "                        print 'The ' + str(j+1) + ' customer clicked ' + str(item_num+1) + ' recommand item!!'\n",
    "                        break\n",
    "\n",
    "            # Random Recommandation使用Preference的資訊\n",
    "            if random.random()>=NonClick_Rate_tot_ran:\n",
    "                #Choose item\n",
    "                choose = random.random()\n",
    "                for item in range(len(Preference_lst)):\n",
    "                    if  Preference_lst[:item].sum()<=choose<=Preference_lst[:item+1].sum():\n",
    "                        reco_ran = customer_reco[item]\n",
    "                        response[j][i][2] = reco_ran\n",
    "                        response[j][i][3] += (response[j][i-1][3] + 1)\n",
    "                        print 'The ' + str(j+1) + ' customer clicked ' + str(item_num+1) + ' random recommand item!!'\n",
    "                        break\n",
    "            \n",
    "            print 'Finish ' + str(j+1) + ' customer ' + str(i+1) + ' times!!'  \n",
    "    \n",
    "    return response"
   ]
  },
  {
   "cell_type": "code",
   "execution_count": null,
   "metadata": {},
   "outputs": [],
   "source": [
    "result = simulation_case3(test_data,15,offer_tags,offerlabel_mapping,tag_mapping,Preference_Dist, IndexMapOffer,answer)"
   ]
  },
  {
   "cell_type": "code",
   "execution_count": null,
   "metadata": {},
   "outputs": [],
   "source": [
    "ModelVSRandom = []\n",
    "for i in range(len(result)):\n",
    "    data = {}\n",
    "    data['Model '+str(i+1)]=result[i][-1][1]/len(result[0])\n",
    "    data['Random '+str(i+1)]=result[i][-1][3]/len(result[0])\n",
    "    ModelVSRandom.append(data)\n",
    "ModelVSRandom"
   ]
  },
  {
   "cell_type": "code",
   "execution_count": null,
   "metadata": {
    "collapsed": true
   },
   "outputs": [],
   "source": []
  }
 ],
 "metadata": {
  "kernelspec": {
   "display_name": "Python 2",
   "language": "python",
   "name": "python2"
  },
  "language_info": {
   "codemirror_mode": {
    "name": "ipython",
    "version": 2
   },
   "file_extension": ".py",
   "mimetype": "text/x-python",
   "name": "python",
   "nbconvert_exporter": "python",
   "pygments_lexer": "ipython2",
   "version": "2.7.13"
  }
 },
 "nbformat": 4,
 "nbformat_minor": 2
}
