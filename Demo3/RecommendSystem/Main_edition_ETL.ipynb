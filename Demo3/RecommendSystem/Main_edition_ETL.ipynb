{
 "cells": [
  {
   "cell_type": "code",
   "execution_count": 31,
   "metadata": {
    "collapsed": true
   },
   "outputs": [],
   "source": [
    "#-*- coding:utf-8 -*-\n",
    "import pandas as pd\n",
    "import numpy as np\n",
    "from datetime import datetime\n",
    "import time\n",
    "import json\n",
    "import psycopg2\n",
    "import redis"
   ]
  },
  {
   "cell_type": "code",
   "execution_count": 32,
   "metadata": {
    "collapsed": true
   },
   "outputs": [],
   "source": [
    "Seg1 = pd.read_excel('OfferID_LIST_TAG.xlsx')\n",
    "list_seg1 = list(Seg1)[2:]"
   ]
  },
  {
   "cell_type": "code",
   "execution_count": 38,
   "metadata": {
    "collapsed": false
   },
   "outputs": [
    {
     "name": "stderr",
     "output_type": "stream",
     "text": [
      "/usr/local/lib/python2.7/site-packages/ipykernel/__main__.py:9: SettingWithCopyWarning: \n",
      "A value is trying to be set on a copy of a slice from a DataFrame\n",
      "\n",
      "See the caveats in the documentation: http://pandas.pydata.org/pandas-docs/stable/indexing.html#indexing-view-versus-copy\n"
     ]
    }
   ],
   "source": [
    "Seg1['offer_list']=''\n",
    "Seg_Json = []\n",
    "for i in range(Seg1.shape[0]):\n",
    "    temp_list = []\n",
    "    temp_detail = {}\n",
    "    temp_detail['Tag_value']=str(Seg1.loc[i,:]['UTID'])\n",
    "    for column in list_seg1:\n",
    "        temp_list.append(Seg1.loc[i,:][column])\n",
    "    Seg1.loc[i,:]['offer_list']=temp_list\n",
    "    temp_detail['offer_list'] = temp_list\n",
    "    Seg_Json.append(temp_detail)\n",
    "Seg=Seg1[['UTID','offer_list']]"
   ]
  },
  {
   "cell_type": "code",
   "execution_count": 41,
   "metadata": {
    "collapsed": false
   },
   "outputs": [],
   "source": [
    "import psycopg2\n",
    "\n",
    "\n",
    "# connect PostgreSQL\n",
    "conn = psycopg2.connect(database = \"MJ_PROTOTYPE\",\n",
    "                        host = \"localhost\",\n",
    "                        user = \"liaoziqing\",\n",
    "                        password = \"\")\n",
    "cur = conn.cursor()\n"
   ]
  },
  {
   "cell_type": "code",
   "execution_count": 42,
   "metadata": {
    "collapsed": true
   },
   "outputs": [],
   "source": [
    "for i in Seg_Json:\n",
    "    SQL = \"INSERT INTO main_edition(tag_info) VALUES('{}');\".format(json.dumps(i))\n",
    "    cur.execute(SQL)\n",
    "    conn.commit()"
   ]
  },
  {
   "cell_type": "code",
   "execution_count": 56,
   "metadata": {
    "collapsed": true
   },
   "outputs": [],
   "source": [
    "def main_edition_query(tag_value, sql_db):\n",
    "    SQL = \"SELECT tag_info FROM main_edition WHERE tag_info->>'Tag_value' = '{}';\".format(tag_value)\n",
    "    sql_db.execute(SQL)\n",
    "    records = sql_db.fetchall()[0][0]\n",
    "    return records"
   ]
  },
  {
   "cell_type": "code",
   "execution_count": 57,
   "metadata": {
    "collapsed": false
   },
   "outputs": [
    {
     "data": {
      "text/plain": [
       "{u'Tag_value': u'1',\n",
       " u'offer_list': [u'1_WomanEcard.png',\n",
       "  u'5_DreamEcard.png',\n",
       "  u'6_CardAddFriend.png',\n",
       "  u'12_WeddingLN.png',\n",
       "  u'4_InvitMovie.png',\n",
       "  u'7_AndroidPay.png',\n",
       "  u'8_FX_NBOpen.png',\n",
       "  u'3_NB_FXTrade.png',\n",
       "  u'17_FundPopular.png',\n",
       "  u'10_Ecard.png']}"
      ]
     },
     "execution_count": 57,
     "metadata": {},
     "output_type": "execute_result"
    }
   ],
   "source": [
    "main_edition_query(1,cur)"
   ]
  }
 ],
 "metadata": {
  "kernelspec": {
   "display_name": "Python 2",
   "language": "python",
   "name": "python2"
  },
  "language_info": {
   "codemirror_mode": {
    "name": "ipython",
    "version": 2
   },
   "file_extension": ".py",
   "mimetype": "text/x-python",
   "name": "python",
   "nbconvert_exporter": "python",
   "pygments_lexer": "ipython2",
   "version": "2.7.12"
  }
 },
 "nbformat": 4,
 "nbformat_minor": 1
}
